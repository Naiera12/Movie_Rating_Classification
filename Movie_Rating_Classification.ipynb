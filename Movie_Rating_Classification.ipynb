{
 "cells": [
  {
   "cell_type": "code",
   "execution_count": 36,
   "metadata": {
    "id": "FTy16jHqk1TJ"
   },
   "outputs": [],
   "source": [
    "import numpy as np\n",
    "import pandas as pd\n",
    "import warnings\n",
    "warnings.filterwarnings('ignore')\n",
    "from sklearn.model_selection import train_test_split\n",
    "from sklearn.svm import SVC\n",
    "import time\n",
    "from sklearn.linear_model import LogisticRegression\n",
    "from sklearn.metrics import accuracy_score\n",
    "from sklearn.tree import DecisionTreeClassifier\n",
    "from sklearn.neighbors import KNeighborsClassifier"
   ]
  },
  {
   "cell_type": "code",
   "execution_count": 37,
   "metadata": {
    "id": "w-EjZF93lWmT"
   },
   "outputs": [],
   "source": [
    "cred = pd.read_csv('movies-credit-students-train.csv')\n",
    "\n",
    "df = pd.read_csv('movies-classification-dataset.csv')\n",
    "\n",
    "df = df.merge(cred, on='title')"
   ]
  },
  {
   "cell_type": "code",
   "execution_count": 38,
   "metadata": {},
   "outputs": [
    {
     "data": {
      "text/html": [
       "<div>\n",
       "<style scoped>\n",
       "    .dataframe tbody tr th:only-of-type {\n",
       "        vertical-align: middle;\n",
       "    }\n",
       "\n",
       "    .dataframe tbody tr th {\n",
       "        vertical-align: top;\n",
       "    }\n",
       "\n",
       "    .dataframe thead th {\n",
       "        text-align: right;\n",
       "    }\n",
       "</style>\n",
       "<table border=\"1\" class=\"dataframe\">\n",
       "  <thead>\n",
       "    <tr style=\"text-align: right;\">\n",
       "      <th></th>\n",
       "      <th>budget</th>\n",
       "      <th>genres</th>\n",
       "      <th>homepage</th>\n",
       "      <th>id</th>\n",
       "      <th>keywords</th>\n",
       "      <th>original_language</th>\n",
       "      <th>original_title</th>\n",
       "      <th>overview</th>\n",
       "      <th>viewercount</th>\n",
       "      <th>production_companies</th>\n",
       "      <th>...</th>\n",
       "      <th>runtime</th>\n",
       "      <th>spoken_languages</th>\n",
       "      <th>status</th>\n",
       "      <th>tagline</th>\n",
       "      <th>title</th>\n",
       "      <th>vote_count</th>\n",
       "      <th>Rate</th>\n",
       "      <th>movie_id</th>\n",
       "      <th>cast</th>\n",
       "      <th>crew</th>\n",
       "    </tr>\n",
       "  </thead>\n",
       "  <tbody>\n",
       "    <tr>\n",
       "      <th>0</th>\n",
       "      <td>25000000</td>\n",
       "      <td>[{\"id\": 18, \"name\": \"Drama\"}, {\"id\": 10749, \"n...</td>\n",
       "      <td>http://www.maoslastdancermovie.com/</td>\n",
       "      <td>33870</td>\n",
       "      <td>[{\"id\": 4328, \"name\": \"costume\"}, {\"id\": 4528,...</td>\n",
       "      <td>en</td>\n",
       "      <td>Mao's Last Dancer</td>\n",
       "      <td>At the age of 11, Li was plucked from a poor C...</td>\n",
       "      <td>1.876811</td>\n",
       "      <td>[{\"name\": \"Great Scott Productions Pty. Ltd.\",...</td>\n",
       "      <td>...</td>\n",
       "      <td>117.0</td>\n",
       "      <td>[{\"iso_639_1\": \"en\", \"name\": \"English\"}, {\"iso...</td>\n",
       "      <td>Released</td>\n",
       "      <td>最后的舞者</td>\n",
       "      <td>Mao's Last Dancer</td>\n",
       "      <td>28</td>\n",
       "      <td>High</td>\n",
       "      <td>33870</td>\n",
       "      <td>[{\"cast_id\": 2, \"character\": \"Li Cunxin - adul...</td>\n",
       "      <td>[{\"credit_id\": \"52fe45419251416c9102c18d\", \"de...</td>\n",
       "    </tr>\n",
       "    <tr>\n",
       "      <th>1</th>\n",
       "      <td>38000000</td>\n",
       "      <td>[{\"id\": 878, \"name\": \"Science Fiction\"}, {\"id\"...</td>\n",
       "      <td>NaN</td>\n",
       "      <td>193</td>\n",
       "      <td>[{\"id\": 10988, \"name\": \"based on tv series\"}, ...</td>\n",
       "      <td>en</td>\n",
       "      <td>Star Trek: Generations</td>\n",
       "      <td>Captain Jean-Luc Picard and the crew of the En...</td>\n",
       "      <td>14.779041</td>\n",
       "      <td>[{\"name\": \"Paramount Pictures\", \"id\": 4}]</td>\n",
       "      <td>...</td>\n",
       "      <td>118.0</td>\n",
       "      <td>[{\"iso_639_1\": \"en\", \"name\": \"English\"}]</td>\n",
       "      <td>Released</td>\n",
       "      <td>Boldly go.</td>\n",
       "      <td>Star Trek: Generations</td>\n",
       "      <td>452</td>\n",
       "      <td>Intermediate</td>\n",
       "      <td>193</td>\n",
       "      <td>[{\"cast_id\": 5, \"character\": \"Captain Jean-Luc...</td>\n",
       "      <td>[{\"credit_id\": \"52fe4225c3a36847f8007717\", \"de...</td>\n",
       "    </tr>\n",
       "    <tr>\n",
       "      <th>2</th>\n",
       "      <td>20000000</td>\n",
       "      <td>[{\"id\": 36, \"name\": \"History\"}, {\"id\": 18, \"na...</td>\n",
       "      <td>http://focusfeatures.com/film/milk/</td>\n",
       "      <td>10139</td>\n",
       "      <td>[{\"id\": 237, \"name\": \"gay\"}, {\"id\": 582, \"name...</td>\n",
       "      <td>en</td>\n",
       "      <td>Milk</td>\n",
       "      <td>The story of California's first openly gay ele...</td>\n",
       "      <td>30.909699</td>\n",
       "      <td>[{\"name\": \"Focus Features\", \"id\": 10146}]</td>\n",
       "      <td>...</td>\n",
       "      <td>128.0</td>\n",
       "      <td>[{\"iso_639_1\": \"en\", \"name\": \"English\"}]</td>\n",
       "      <td>Released</td>\n",
       "      <td>Never Blend In.</td>\n",
       "      <td>Milk</td>\n",
       "      <td>612</td>\n",
       "      <td>High</td>\n",
       "      <td>10139</td>\n",
       "      <td>[{\"cast_id\": 2, \"character\": \"Harvey Milk\", \"c...</td>\n",
       "      <td>[{\"credit_id\": \"52fe43339251416c7500756b\", \"de...</td>\n",
       "    </tr>\n",
       "    <tr>\n",
       "      <th>3</th>\n",
       "      <td>23000000</td>\n",
       "      <td>[{\"id\": 18, \"name\": \"Drama\"}, {\"id\": 10749, \"n...</td>\n",
       "      <td>NaN</td>\n",
       "      <td>11632</td>\n",
       "      <td>[{\"id\": 212, \"name\": \"london england\"}, {\"id\":...</td>\n",
       "      <td>en</td>\n",
       "      <td>Vanity Fair</td>\n",
       "      <td>Beautiful, funny, passionate, and calculating,...</td>\n",
       "      <td>6.618149</td>\n",
       "      <td>[{\"name\": \"Alliance Films\", \"id\": 2514}, {\"nam...</td>\n",
       "      <td>...</td>\n",
       "      <td>141.0</td>\n",
       "      <td>[{\"iso_639_1\": \"en\", \"name\": \"English\"}, {\"iso...</td>\n",
       "      <td>Released</td>\n",
       "      <td>On September 1st, a heroine will rise.</td>\n",
       "      <td>Vanity Fair</td>\n",
       "      <td>73</td>\n",
       "      <td>Intermediate</td>\n",
       "      <td>11632</td>\n",
       "      <td>[{\"cast_id\": 22, \"character\": \"Becky Sharp\", \"...</td>\n",
       "      <td>[{\"credit_id\": \"52fe446c9251416c75034365\", \"de...</td>\n",
       "    </tr>\n",
       "    <tr>\n",
       "      <th>4</th>\n",
       "      <td>52000000</td>\n",
       "      <td>[{\"id\": 28, \"name\": \"Action\"}, {\"id\": 80, \"nam...</td>\n",
       "      <td>http://www.frompariswithlovefilm.com/</td>\n",
       "      <td>26389</td>\n",
       "      <td>[{\"id\": 90, \"name\": \"paris\"}, {\"id\": 591, \"nam...</td>\n",
       "      <td>en</td>\n",
       "      <td>From Paris with Love</td>\n",
       "      <td>James Reese has a good job as an ambassador's ...</td>\n",
       "      <td>27.916284</td>\n",
       "      <td>[{\"name\": \"Apipoula\\u00ef\", \"id\": 1076}, {\"nam...</td>\n",
       "      <td>...</td>\n",
       "      <td>92.0</td>\n",
       "      <td>[{\"iso_639_1\": \"de\", \"name\": \"Deutsch\"}, {\"iso...</td>\n",
       "      <td>Released</td>\n",
       "      <td>Two agents. One city. No merci.</td>\n",
       "      <td>From Paris with Love</td>\n",
       "      <td>675</td>\n",
       "      <td>Intermediate</td>\n",
       "      <td>26389</td>\n",
       "      <td>[{\"cast_id\": 3, \"character\": \"Charlie Wax\", \"c...</td>\n",
       "      <td>[{\"credit_id\": \"5763f7b792514134cd00026b\", \"de...</td>\n",
       "    </tr>\n",
       "  </tbody>\n",
       "</table>\n",
       "<p>5 rows × 23 columns</p>\n",
       "</div>"
      ],
      "text/plain": [
       "     budget                                             genres  \\\n",
       "0  25000000  [{\"id\": 18, \"name\": \"Drama\"}, {\"id\": 10749, \"n...   \n",
       "1  38000000  [{\"id\": 878, \"name\": \"Science Fiction\"}, {\"id\"...   \n",
       "2  20000000  [{\"id\": 36, \"name\": \"History\"}, {\"id\": 18, \"na...   \n",
       "3  23000000  [{\"id\": 18, \"name\": \"Drama\"}, {\"id\": 10749, \"n...   \n",
       "4  52000000  [{\"id\": 28, \"name\": \"Action\"}, {\"id\": 80, \"nam...   \n",
       "\n",
       "                                homepage     id  \\\n",
       "0    http://www.maoslastdancermovie.com/  33870   \n",
       "1                                    NaN    193   \n",
       "2    http://focusfeatures.com/film/milk/  10139   \n",
       "3                                    NaN  11632   \n",
       "4  http://www.frompariswithlovefilm.com/  26389   \n",
       "\n",
       "                                            keywords original_language  \\\n",
       "0  [{\"id\": 4328, \"name\": \"costume\"}, {\"id\": 4528,...                en   \n",
       "1  [{\"id\": 10988, \"name\": \"based on tv series\"}, ...                en   \n",
       "2  [{\"id\": 237, \"name\": \"gay\"}, {\"id\": 582, \"name...                en   \n",
       "3  [{\"id\": 212, \"name\": \"london england\"}, {\"id\":...                en   \n",
       "4  [{\"id\": 90, \"name\": \"paris\"}, {\"id\": 591, \"nam...                en   \n",
       "\n",
       "           original_title                                           overview  \\\n",
       "0       Mao's Last Dancer  At the age of 11, Li was plucked from a poor C...   \n",
       "1  Star Trek: Generations  Captain Jean-Luc Picard and the crew of the En...   \n",
       "2                    Milk  The story of California's first openly gay ele...   \n",
       "3             Vanity Fair  Beautiful, funny, passionate, and calculating,...   \n",
       "4    From Paris with Love  James Reese has a good job as an ambassador's ...   \n",
       "\n",
       "   viewercount                               production_companies  ...  \\\n",
       "0     1.876811  [{\"name\": \"Great Scott Productions Pty. Ltd.\",...  ...   \n",
       "1    14.779041          [{\"name\": \"Paramount Pictures\", \"id\": 4}]  ...   \n",
       "2    30.909699          [{\"name\": \"Focus Features\", \"id\": 10146}]  ...   \n",
       "3     6.618149  [{\"name\": \"Alliance Films\", \"id\": 2514}, {\"nam...  ...   \n",
       "4    27.916284  [{\"name\": \"Apipoula\\u00ef\", \"id\": 1076}, {\"nam...  ...   \n",
       "\n",
       "  runtime                                   spoken_languages    status  \\\n",
       "0   117.0  [{\"iso_639_1\": \"en\", \"name\": \"English\"}, {\"iso...  Released   \n",
       "1   118.0           [{\"iso_639_1\": \"en\", \"name\": \"English\"}]  Released   \n",
       "2   128.0           [{\"iso_639_1\": \"en\", \"name\": \"English\"}]  Released   \n",
       "3   141.0  [{\"iso_639_1\": \"en\", \"name\": \"English\"}, {\"iso...  Released   \n",
       "4    92.0  [{\"iso_639_1\": \"de\", \"name\": \"Deutsch\"}, {\"iso...  Released   \n",
       "\n",
       "                                  tagline                   title vote_count  \\\n",
       "0                                   最后的舞者       Mao's Last Dancer         28   \n",
       "1                              Boldly go.  Star Trek: Generations        452   \n",
       "2                         Never Blend In.                    Milk        612   \n",
       "3  On September 1st, a heroine will rise.             Vanity Fair         73   \n",
       "4         Two agents. One city. No merci.    From Paris with Love        675   \n",
       "\n",
       "           Rate movie_id                                               cast  \\\n",
       "0          High    33870  [{\"cast_id\": 2, \"character\": \"Li Cunxin - adul...   \n",
       "1  Intermediate      193  [{\"cast_id\": 5, \"character\": \"Captain Jean-Luc...   \n",
       "2          High    10139  [{\"cast_id\": 2, \"character\": \"Harvey Milk\", \"c...   \n",
       "3  Intermediate    11632  [{\"cast_id\": 22, \"character\": \"Becky Sharp\", \"...   \n",
       "4  Intermediate    26389  [{\"cast_id\": 3, \"character\": \"Charlie Wax\", \"c...   \n",
       "\n",
       "                                                crew  \n",
       "0  [{\"credit_id\": \"52fe45419251416c9102c18d\", \"de...  \n",
       "1  [{\"credit_id\": \"52fe4225c3a36847f8007717\", \"de...  \n",
       "2  [{\"credit_id\": \"52fe43339251416c7500756b\", \"de...  \n",
       "3  [{\"credit_id\": \"52fe446c9251416c75034365\", \"de...  \n",
       "4  [{\"credit_id\": \"5763f7b792514134cd00026b\", \"de...  \n",
       "\n",
       "[5 rows x 23 columns]"
      ]
     },
     "execution_count": 38,
     "metadata": {},
     "output_type": "execute_result"
    }
   ],
   "source": [
    "df.head()"
   ]
  },
  {
   "cell_type": "code",
   "execution_count": 39,
   "metadata": {
    "colab": {
     "base_uri": "https://localhost:8080/"
    },
    "id": "Ou_hYcPZlfFM",
    "outputId": "1786791d-a9ac-4893-afa6-0e162cd9ca1b"
   },
   "outputs": [
    {
     "data": {
      "text/plain": [
       "(3037, 23)"
      ]
     },
     "execution_count": 39,
     "metadata": {},
     "output_type": "execute_result"
    }
   ],
   "source": [
    "df.shape"
   ]
  },
  {
   "cell_type": "code",
   "execution_count": 40,
   "metadata": {
    "colab": {
     "base_uri": "https://localhost:8080/"
    },
    "id": "SzJG1B6mlhUs",
    "outputId": "b2e08df1-a5f5-44d3-c449-d03a8cf896d2"
   },
   "outputs": [
    {
     "name": "stdout",
     "output_type": "stream",
     "text": [
      "train_data  (2429, 23)\n",
      "test_data  (608, 23)\n"
     ]
    }
   ],
   "source": [
    "# Split the data into training and testing sets\n",
    "from sklearn.model_selection import train_test_split\n",
    "train_data, test_data = train_test_split(df, test_size=0.2, random_state=42)\n",
    "print(\"train_data \" , train_data.shape)\n",
    "print(\"test_data \" , test_data.shape)"
   ]
  },
  {
   "cell_type": "code",
   "execution_count": 41,
   "metadata": {
    "id": "Fhp_lwuOljbn"
   },
   "outputs": [],
   "source": [
    "# Extract TLD from homepage\n",
    "from urllib.parse import urlparse\n",
    "\n",
    "def extract_tld(col):\n",
    "    lst = []\n",
    "    for url in col:\n",
    "        if url is None:\n",
    "            lst.append(None)\n",
    "        elif isinstance(url, float):\n",
    "            lst.append(None)\n",
    "        else:\n",
    "            domain = urlparse(url).netloc\n",
    "            tld = domain.split('.')[-1]\n",
    "            lst.append(tld)\n",
    "    return lst"
   ]
  },
  {
   "cell_type": "code",
   "execution_count": 42,
   "metadata": {
    "id": "Qb4562delqT_"
   },
   "outputs": [],
   "source": [
    "train_data['tld'] = extract_tld(train_data['homepage'])"
   ]
  },
  {
   "cell_type": "code",
   "execution_count": 43,
   "metadata": {
    "colab": {
     "base_uri": "https://localhost:8080/"
    },
    "id": "wzsauc9hlrSm",
    "outputId": "b34b343d-10cb-4794-d2ad-dccf40c676a4"
   },
   "outputs": [
    {
     "data": {
      "text/plain": [
       "com         827\n",
       "net          27\n",
       "uk           11\n",
       "de           10\n",
       "movie         8\n",
       "org           4\n",
       "au            3\n",
       "fr            3\n",
       "ru            2\n",
       "cn            2\n",
       "ca            2\n",
       "jp            1\n",
       "it            1\n",
       "dk            1\n",
       "ch http:      1\n",
       "hk            1\n",
       "za            1\n",
       "ie            1\n",
       "Name: tld, dtype: int64"
      ]
     },
     "execution_count": 43,
     "metadata": {},
     "output_type": "execute_result"
    }
   ],
   "source": [
    "train_data['tld'].value_counts()"
   ]
  },
  {
   "cell_type": "code",
   "execution_count": 44,
   "metadata": {},
   "outputs": [
    {
     "data": {
      "text/plain": [
       "1523"
      ]
     },
     "execution_count": 44,
     "metadata": {},
     "output_type": "execute_result"
    }
   ],
   "source": [
    "train_data['tld'].isnull().sum()"
   ]
  },
  {
   "cell_type": "code",
   "execution_count": 45,
   "metadata": {
    "id": "eNSswclblrdD"
   },
   "outputs": [],
   "source": [
    "train_data['tld'] = train_data['tld'].fillna('com')"
   ]
  },
  {
   "cell_type": "code",
   "execution_count": 46,
   "metadata": {
    "id": "v4y_ffmzlroI"
   },
   "outputs": [],
   "source": [
    "train_data = train_data.drop(columns = ['homepage'], axis = 1)"
   ]
  },
  {
   "cell_type": "code",
   "execution_count": 47,
   "metadata": {
    "colab": {
     "base_uri": "https://localhost:8080/"
    },
    "id": "AFqxDoJ0lxpd",
    "outputId": "257f2611-b722-44e9-eb0a-c72fb8a8b25e"
   },
   "outputs": [
    {
     "name": "stdout",
     "output_type": "stream",
     "text": [
      "budget                    0\n",
      "genres                    0\n",
      "id                        0\n",
      "keywords                  0\n",
      "original_language         0\n",
      "original_title            0\n",
      "overview                  1\n",
      "viewercount               0\n",
      "production_companies      0\n",
      "production_countries      0\n",
      "release_date              0\n",
      "revenue                   0\n",
      "runtime                   1\n",
      "spoken_languages          0\n",
      "status                    0\n",
      "tagline                 314\n",
      "title                     0\n",
      "vote_count                0\n",
      "Rate                      0\n",
      "movie_id                  0\n",
      "cast                      0\n",
      "crew                      0\n",
      "tld                       0\n",
      "dtype: int64\n"
     ]
    }
   ],
   "source": [
    "# check if there are any null values\n",
    "print(train_data.isnull().sum())"
   ]
  },
  {
   "cell_type": "code",
   "execution_count": 48,
   "metadata": {
    "colab": {
     "base_uri": "https://localhost:8080/"
    },
    "id": "_d-u0nTilxz9",
    "outputId": "709b1cdd-34d0-4215-bc05-d7652ebaf0b5"
   },
   "outputs": [
    {
     "name": "stdout",
     "output_type": "stream",
     "text": [
      "budget                  0\n",
      "genres                  0\n",
      "id                      0\n",
      "keywords                0\n",
      "original_language       0\n",
      "original_title          0\n",
      "overview                0\n",
      "viewercount             0\n",
      "production_companies    0\n",
      "production_countries    0\n",
      "release_date            0\n",
      "revenue                 0\n",
      "runtime                 0\n",
      "spoken_languages        0\n",
      "status                  0\n",
      "tagline                 0\n",
      "title                   0\n",
      "vote_count              0\n",
      "Rate                    0\n",
      "movie_id                0\n",
      "cast                    0\n",
      "crew                    0\n",
      "tld                     0\n",
      "dtype: int64\n"
     ]
    }
   ],
   "source": [
    "train_data['tagline'] = train_data['tagline'].fillna('Unknown')\n",
    "train_data = train_data.dropna()\n",
    "print(train_data.isnull().sum())"
   ]
  },
  {
   "cell_type": "code",
   "execution_count": 49,
   "metadata": {
    "colab": {
     "base_uri": "https://localhost:8080/"
    },
    "id": "-84GQ86blx2F",
    "outputId": "47e75705-a3de-4d78-a9b3-6f5fcb6900f3"
   },
   "outputs": [
    {
     "name": "stdout",
     "output_type": "stream",
     "text": [
      "Empty DataFrame\n",
      "Columns: [budget, genres, id, keywords, original_language, original_title, overview, viewercount, production_companies, production_countries, release_date, revenue, runtime, spoken_languages, status, tagline, title, vote_count, Rate, movie_id, cast, crew, tld]\n",
      "Index: []\n",
      "\n",
      "[0 rows x 23 columns]\n"
     ]
    }
   ],
   "source": [
    "#check if there are any duplicated rows\n",
    "DRows = train_data[train_data.duplicated()]\n",
    "print(DRows)"
   ]
  },
  {
   "cell_type": "code",
   "execution_count": 50,
   "metadata": {
    "id": "yP0yUQYZlx5d"
   },
   "outputs": [],
   "source": [
    "def drop_outliers(data, thresh):\n",
    "  numeric_features = data.drop(columns = ['id', 'original_language','original_title', 'overview' ,\n",
    "                                     'status', 'tagline' ,'title', 'tld' , 'spoken_languages', 'genres',\n",
    "                                      'production_companies', 'production_countries', 'keywords', 'release_date',\n",
    "                                      'cast', 'crew', 'movie_id', 'Rate'], axis = 1)\n",
    "  new_df = data.copy()\n",
    "  for col in numeric_features.columns:\n",
    "      z_scores = (new_df[col] - new_df[col].mean()) / new_df[col].std()\n",
    "      outliers = new_df[abs(z_scores) > thresh]\n",
    "      new_df.drop(outliers.index, inplace=True)\n",
    "\n",
    "  return new_df"
   ]
  },
  {
   "cell_type": "code",
   "execution_count": 51,
   "metadata": {
    "colab": {
     "base_uri": "https://localhost:8080/"
    },
    "id": "eST9y4tQmHg3",
    "outputId": "42787e5b-3442-4dd1-ab7e-521d1c0d8150"
   },
   "outputs": [
    {
     "data": {
      "text/plain": [
       "(2194, 23)"
      ]
     },
     "execution_count": 51,
     "metadata": {},
     "output_type": "execute_result"
    }
   ],
   "source": [
    "train_data = drop_outliers(train_data, 3)\n",
    "\n",
    "train_data.shape"
   ]
  },
  {
   "cell_type": "code",
   "execution_count": 52,
   "metadata": {
    "id": "uLvps3XNmJcK"
   },
   "outputs": [],
   "source": [
    "#Extract features from Dictionary\n",
    "import json\n",
    "def extract_name(col, df, new_col):\n",
    "    df[col] = df[col].apply(lambda x: json.loads(x) if x is not None else [])\n",
    "    df[new_col] = df[col].apply(lambda x: [dict_['name'] for dict_ in x] if x else [])\n",
    "    df[new_col] = df[new_col].apply(lambda x: ', '.join(x) if x else '')\n",
    "    df.drop(col, axis=1, inplace=True)"
   ]
  },
  {
   "cell_type": "code",
   "execution_count": 53,
   "metadata": {
    "id": "qDW8Xgs9mJen"
   },
   "outputs": [],
   "source": [
    "extract_name('spoken_languages', train_data, 'Lang')\n",
    "extract_name('genres', train_data, 'genre_names')\n",
    "extract_name('production_companies', train_data, 'production_company')\n",
    "extract_name('production_countries', train_data, 'production_country')\n",
    "extract_name('keywords', train_data, 'keyword')"
   ]
  },
  {
   "cell_type": "code",
   "execution_count": 54,
   "metadata": {
    "colab": {
     "base_uri": "https://localhost:8080/"
    },
    "id": "6TNCdmArmJgk",
    "outputId": "c0549244-8b46-4e5b-8461-16b9f2ee7cab"
   },
   "outputs": [
    {
     "data": {
      "text/plain": [
       "227                       Drama, Foreign, Romance\n",
       "365     Action, Horror, Science Fiction, Thriller\n",
       "2501                               Romance, Drama\n",
       "2001                       Crime, Drama, Thriller\n",
       "1811                              Comedy, Romance\n",
       "                          ...                    \n",
       "466                           Drama, History, War\n",
       "2169                                      Romance\n",
       "1638                                        Drama\n",
       "1130                       Comedy, Drama, Romance\n",
       "860                               Comedy, Romance\n",
       "Name: genre_names, Length: 2194, dtype: object"
      ]
     },
     "execution_count": 54,
     "metadata": {},
     "output_type": "execute_result"
    }
   ],
   "source": [
    "train_data['genre_names']"
   ]
  },
  {
   "cell_type": "code",
   "execution_count": 55,
   "metadata": {
    "id": "pnzw6HXYmJkK"
   },
   "outputs": [],
   "source": [
    "# Extract Director from Crew \n",
    "def extract_features(data, crew):\n",
    "    data['Director'] = data[crew].apply(json.loads)\n",
    "    data['Director'] = data['Director'].apply(lambda x: [d['name'] for d in x if d['job'] == 'Director'])\n",
    "    data['Director'] = data['Director'].apply(lambda x: x[0] if len(x) > 0 else '')\n",
    "    data.drop(columns=[crew], axis=1, inplace=True)"
   ]
  },
  {
   "cell_type": "code",
   "execution_count": 56,
   "metadata": {
    "id": "uQ4vio1hmhsy"
   },
   "outputs": [],
   "source": [
    "extract_features(train_data, 'crew')\n",
    "\n",
    "# train_data['Director'][227]"
   ]
  },
  {
   "cell_type": "code",
   "execution_count": 57,
   "metadata": {},
   "outputs": [
    {
     "data": {
      "text/plain": [
       "'Vic Sarin'"
      ]
     },
     "execution_count": 57,
     "metadata": {},
     "output_type": "execute_result"
    }
   ],
   "source": [
    "train_data['Director'][227]"
   ]
  },
  {
   "cell_type": "code",
   "execution_count": 58,
   "metadata": {
    "colab": {
     "base_uri": "https://localhost:8080/"
    },
    "id": "RDLCD1IcmlQX",
    "outputId": "1f6da0be-b194-4439-b9e0-18da885f80c2"
   },
   "outputs": [
    {
     "data": {
      "text/plain": [
       "227           [Kristin Kreuk, Jimi Mistry, Neve Campbell]\n",
       "365                [Roddy Piper, Keith David, Meg Foster]\n",
       "2501             [Meryl Streep, Amy Adams, Stanley Tucci]\n",
       "2001    [Matthew McConaughey, Emile Hirsch, Thomas Had...\n",
       "1811    [Queen Latifah, Alicia Silverstone, Andie MacD...\n",
       "                              ...                        \n",
       "466                   [Christian Bale, Ni Ni, Tong Dawei]\n",
       "2169    [John Travolta, Olivia Newton-John, Stockard C...\n",
       "1638     [Julian Sands, Saffron Burrows, Justin Chadwick]\n",
       "1130       [Morris Chestnut, D. L. Hughley, Bill Bellamy]\n",
       "860              [Kristen Wiig, Rose Byrne, Maya Rudolph]\n",
       "Name: cast_names, Length: 2194, dtype: object"
      ]
     },
     "execution_count": 58,
     "metadata": {},
     "output_type": "execute_result"
    }
   ],
   "source": [
    "def main_actores(data, cast):\n",
    "  data['cast_names'] = data[cast].apply(json.loads)\n",
    "  data['cast_names'] = data['cast_names'].apply(lambda x: [item['name'] for item in x[:3]] if len(x) > 0 else [])\n",
    "  data.drop(columns = [cast], axis = 1 , inplace = True)\n",
    "\n",
    "main_actores(train_data, 'cast')\n",
    "train_data['cast_names']"
   ]
  },
  {
   "cell_type": "code",
   "execution_count": 59,
   "metadata": {
    "colab": {
     "base_uri": "https://localhost:8080/",
     "height": 647
    },
    "id": "euiE2F6Vmnzm",
    "outputId": "0264daae-a54c-4cc7-f72e-6aa2278355f0"
   },
   "outputs": [
    {
     "data": {
      "text/html": [
       "<div>\n",
       "<style scoped>\n",
       "    .dataframe tbody tr th:only-of-type {\n",
       "        vertical-align: middle;\n",
       "    }\n",
       "\n",
       "    .dataframe tbody tr th {\n",
       "        vertical-align: top;\n",
       "    }\n",
       "\n",
       "    .dataframe thead th {\n",
       "        text-align: right;\n",
       "    }\n",
       "</style>\n",
       "<table border=\"1\" class=\"dataframe\">\n",
       "  <thead>\n",
       "    <tr style=\"text-align: right;\">\n",
       "      <th></th>\n",
       "      <th>budget</th>\n",
       "      <th>id</th>\n",
       "      <th>original_language</th>\n",
       "      <th>original_title</th>\n",
       "      <th>overview</th>\n",
       "      <th>viewercount</th>\n",
       "      <th>revenue</th>\n",
       "      <th>runtime</th>\n",
       "      <th>status</th>\n",
       "      <th>tagline</th>\n",
       "      <th>...</th>\n",
       "      <th>movie_id</th>\n",
       "      <th>tld</th>\n",
       "      <th>Lang</th>\n",
       "      <th>genre_names</th>\n",
       "      <th>production_company</th>\n",
       "      <th>production_country</th>\n",
       "      <th>keyword</th>\n",
       "      <th>Director</th>\n",
       "      <th>cast_names</th>\n",
       "      <th>release_year</th>\n",
       "    </tr>\n",
       "  </thead>\n",
       "  <tbody>\n",
       "    <tr>\n",
       "      <th>227</th>\n",
       "      <td>0</td>\n",
       "      <td>14608</td>\n",
       "      <td>en</td>\n",
       "      <td>Partition</td>\n",
       "      <td>Determined to leave the ravages of war behind,...</td>\n",
       "      <td>2.131524</td>\n",
       "      <td>0</td>\n",
       "      <td>116.0</td>\n",
       "      <td>Released</td>\n",
       "      <td>Unknown</td>\n",
       "      <td>...</td>\n",
       "      <td>14608</td>\n",
       "      <td>com</td>\n",
       "      <td>English</td>\n",
       "      <td>Drama, Foreign, Romance</td>\n",
       "      <td>Partition Films%2C Inc., Khussro Films</td>\n",
       "      <td>Canada, South Africa, United Kingdom</td>\n",
       "      <td>drama, independent film</td>\n",
       "      <td>Vic Sarin</td>\n",
       "      <td>[Kristin Kreuk, Jimi Mistry, Neve Campbell]</td>\n",
       "      <td>2007</td>\n",
       "    </tr>\n",
       "    <tr>\n",
       "      <th>365</th>\n",
       "      <td>4000000</td>\n",
       "      <td>8337</td>\n",
       "      <td>en</td>\n",
       "      <td>They Live</td>\n",
       "      <td>Nada, a down-on-his-luck construction worker, ...</td>\n",
       "      <td>29.852608</td>\n",
       "      <td>13008928</td>\n",
       "      <td>94.0</td>\n",
       "      <td>Released</td>\n",
       "      <td>Who are they? And what do they want?</td>\n",
       "      <td>...</td>\n",
       "      <td>8337</td>\n",
       "      <td>com</td>\n",
       "      <td>English</td>\n",
       "      <td>Action, Horror, Science Fiction, Thriller</td>\n",
       "      <td>Universal Pictures, Alive Films, Larry Franco ...</td>\n",
       "      <td>United States of America</td>\n",
       "      <td>dystopia, social commentary, alien invasion, s...</td>\n",
       "      <td>John Carpenter</td>\n",
       "      <td>[Roddy Piper, Keith David, Meg Foster]</td>\n",
       "      <td>1988</td>\n",
       "    </tr>\n",
       "    <tr>\n",
       "      <th>2501</th>\n",
       "      <td>40000000</td>\n",
       "      <td>24803</td>\n",
       "      <td>en</td>\n",
       "      <td>Julie &amp; Julia</td>\n",
       "      <td>Julia Child and Julie Powell – both of whom wr...</td>\n",
       "      <td>22.853006</td>\n",
       "      <td>129540499</td>\n",
       "      <td>123.0</td>\n",
       "      <td>Released</td>\n",
       "      <td>Based on Two True Stories</td>\n",
       "      <td>...</td>\n",
       "      <td>24803</td>\n",
       "      <td>com</td>\n",
       "      <td>English, Français</td>\n",
       "      <td>Romance, Drama</td>\n",
       "      <td>Columbia Pictures, Scott Rudin Productions, Ea...</td>\n",
       "      <td>United States of America</td>\n",
       "      <td>cooking, book, cookbook, blog, recipe, woman d...</td>\n",
       "      <td>Nora Ephron</td>\n",
       "      <td>[Meryl Streep, Amy Adams, Stanley Tucci]</td>\n",
       "      <td>2009</td>\n",
       "    </tr>\n",
       "    <tr>\n",
       "      <th>2001</th>\n",
       "      <td>10000000</td>\n",
       "      <td>73567</td>\n",
       "      <td>en</td>\n",
       "      <td>Killer Joe</td>\n",
       "      <td>A cop (Matthew McConaughey) who moonlights as ...</td>\n",
       "      <td>16.436178</td>\n",
       "      <td>3665069</td>\n",
       "      <td>102.0</td>\n",
       "      <td>Released</td>\n",
       "      <td>A Totally Deep-Fried Texas Redneck Trailer Par...</td>\n",
       "      <td>...</td>\n",
       "      <td>73567</td>\n",
       "      <td>com</td>\n",
       "      <td>English</td>\n",
       "      <td>Crime, Drama, Thriller</td>\n",
       "      <td>Voltage pictures, Worldview Entertainment, ANA...</td>\n",
       "      <td>United States of America</td>\n",
       "      <td>trailer park, gun, texas, deal, psychopath, se...</td>\n",
       "      <td>William Friedkin</td>\n",
       "      <td>[Matthew McConaughey, Emile Hirsch, Thomas Had...</td>\n",
       "      <td>2011</td>\n",
       "    </tr>\n",
       "    <tr>\n",
       "      <th>1811</th>\n",
       "      <td>25000000</td>\n",
       "      <td>14177</td>\n",
       "      <td>en</td>\n",
       "      <td>Beauty Shop</td>\n",
       "      <td>You thought you'd heard it all in the barbersh...</td>\n",
       "      <td>5.625632</td>\n",
       "      <td>36351350</td>\n",
       "      <td>105.0</td>\n",
       "      <td>Released</td>\n",
       "      <td>A Cut Above</td>\n",
       "      <td>...</td>\n",
       "      <td>14177</td>\n",
       "      <td>com</td>\n",
       "      <td>English</td>\n",
       "      <td>Comedy, Romance</td>\n",
       "      <td>Metro-Goldwyn-Mayer (MGM)</td>\n",
       "      <td>United States of America</td>\n",
       "      <td></td>\n",
       "      <td>Bille Woodruff</td>\n",
       "      <td>[Queen Latifah, Alicia Silverstone, Andie MacD...</td>\n",
       "      <td>2005</td>\n",
       "    </tr>\n",
       "  </tbody>\n",
       "</table>\n",
       "<p>5 rows × 23 columns</p>\n",
       "</div>"
      ],
      "text/plain": [
       "        budget     id original_language original_title  \\\n",
       "227          0  14608                en      Partition   \n",
       "365    4000000   8337                en      They Live   \n",
       "2501  40000000  24803                en  Julie & Julia   \n",
       "2001  10000000  73567                en     Killer Joe   \n",
       "1811  25000000  14177                en    Beauty Shop   \n",
       "\n",
       "                                               overview  viewercount  \\\n",
       "227   Determined to leave the ravages of war behind,...     2.131524   \n",
       "365   Nada, a down-on-his-luck construction worker, ...    29.852608   \n",
       "2501  Julia Child and Julie Powell – both of whom wr...    22.853006   \n",
       "2001  A cop (Matthew McConaughey) who moonlights as ...    16.436178   \n",
       "1811  You thought you'd heard it all in the barbersh...     5.625632   \n",
       "\n",
       "        revenue  runtime    status  \\\n",
       "227           0    116.0  Released   \n",
       "365    13008928     94.0  Released   \n",
       "2501  129540499    123.0  Released   \n",
       "2001    3665069    102.0  Released   \n",
       "1811   36351350    105.0  Released   \n",
       "\n",
       "                                                tagline  ... movie_id  tld  \\\n",
       "227                                             Unknown  ...    14608  com   \n",
       "365                Who are they? And what do they want?  ...     8337  com   \n",
       "2501                          Based on Two True Stories  ...    24803  com   \n",
       "2001  A Totally Deep-Fried Texas Redneck Trailer Par...  ...    73567  com   \n",
       "1811                                        A Cut Above  ...    14177  com   \n",
       "\n",
       "                   Lang                                genre_names  \\\n",
       "227             English                    Drama, Foreign, Romance   \n",
       "365             English  Action, Horror, Science Fiction, Thriller   \n",
       "2501  English, Français                             Romance, Drama   \n",
       "2001            English                     Crime, Drama, Thriller   \n",
       "1811            English                            Comedy, Romance   \n",
       "\n",
       "                                     production_company  \\\n",
       "227              Partition Films%2C Inc., Khussro Films   \n",
       "365   Universal Pictures, Alive Films, Larry Franco ...   \n",
       "2501  Columbia Pictures, Scott Rudin Productions, Ea...   \n",
       "2001  Voltage pictures, Worldview Entertainment, ANA...   \n",
       "1811                          Metro-Goldwyn-Mayer (MGM)   \n",
       "\n",
       "                        production_country  \\\n",
       "227   Canada, South Africa, United Kingdom   \n",
       "365               United States of America   \n",
       "2501              United States of America   \n",
       "2001              United States of America   \n",
       "1811              United States of America   \n",
       "\n",
       "                                                keyword          Director  \\\n",
       "227                             drama, independent film         Vic Sarin   \n",
       "365   dystopia, social commentary, alien invasion, s...    John Carpenter   \n",
       "2501  cooking, book, cookbook, blog, recipe, woman d...       Nora Ephron   \n",
       "2001  trailer park, gun, texas, deal, psychopath, se...  William Friedkin   \n",
       "1811                                                       Bille Woodruff   \n",
       "\n",
       "                                             cast_names release_year  \n",
       "227         [Kristin Kreuk, Jimi Mistry, Neve Campbell]         2007  \n",
       "365              [Roddy Piper, Keith David, Meg Foster]         1988  \n",
       "2501           [Meryl Streep, Amy Adams, Stanley Tucci]         2009  \n",
       "2001  [Matthew McConaughey, Emile Hirsch, Thomas Had...         2011  \n",
       "1811  [Queen Latifah, Alicia Silverstone, Andie MacD...         2005  \n",
       "\n",
       "[5 rows x 23 columns]"
      ]
     },
     "execution_count": 59,
     "metadata": {},
     "output_type": "execute_result"
    }
   ],
   "source": [
    "# Extract the Release year from Release date \n",
    "from datetime import datetime\n",
    "def Extract_year(data):\n",
    "  data['release_date'] = pd.to_datetime(data['release_date'], dayfirst=True)\n",
    "  data['release_year'] = data['release_date'].dt.year\n",
    "  data.drop(columns = ['release_date'], axis = 1, inplace = True)\n",
    "\n",
    "Extract_year(train_data)\n",
    "\n",
    "train_data.head()"
   ]
  },
  {
   "cell_type": "code",
   "execution_count": 60,
   "metadata": {
    "id": "0vABWAx6mn8Z"
   },
   "outputs": [],
   "source": [
    "def get_list(data, col):\n",
    "  copied_df = data.copy()\n",
    "  copied_df[col] = copied_df[col].str.split(\",\")\n",
    "  copied_df = copied_df.explode(col)\n",
    "  lst = set(copied_df[col].str.strip().unique().tolist())\n",
    "  lst.discard('')\n",
    "  return lst"
   ]
  },
  {
   "cell_type": "code",
   "execution_count": 61,
   "metadata": {
    "colab": {
     "base_uri": "https://localhost:8080/"
    },
    "id": "O2pxIyKZmn_t",
    "outputId": "d61e1264-ced1-469b-c296-a9ef55b76301"
   },
   "outputs": [
    {
     "name": "stdout",
     "output_type": "stream",
     "text": [
      "53\n",
      "{'Dansk', 'Český', 'Español', 'Srpski', 'Afrikaans', 'Norsk', 'اردو', 'No Language', 'Український', 'Română', 'Português', 'Esperanto', 'Somali', 'தமிழ்', 'Deutsch', 'Tiếng Việt', 'Latin', 'svenska', '한국어/조선말', 'isiZulu', 'עִבְרִית', 'Gaeilge', 'English', 'فارسی', 'हिन्दी', 'Pусский', 'suomi', 'български език', 'বাংলা', 'Italiano', 'Cymraeg', 'ਪੰਜਾਬੀ', 'Kiswahili', '广州话 / 廣州話', 'Galego', '普通话', 'ภาษาไทย', 'Magyar', 'Hrvatski', '日本語', 'ქართული', 'қазақ', 'Türkçe', 'Polski', 'Français', 'Slovenčina', 'العربية', 'Nederlands', 'Bosanski', 'Íslenska', 'shqip', 'ελληνικά', 'తెలుగు'}\n"
     ]
    }
   ],
   "source": [
    "lang_list = get_list(train_data, 'Lang')\n",
    "print(len(lang_list))\n",
    "print(lang_list)"
   ]
  },
  {
   "cell_type": "code",
   "execution_count": 62,
   "metadata": {
    "colab": {
     "base_uri": "https://localhost:8080/"
    },
    "id": "WU20ug70nOQN",
    "outputId": "7e4681b5-105a-41ef-abd9-280723b8d01d"
   },
   "outputs": [
    {
     "name": "stdout",
     "output_type": "stream",
     "text": [
      "{'Western', 'Drama', 'Mystery', 'Thriller', 'Adventure', 'TV Movie', 'Family', 'Romance', 'Documentary', 'Comedy', 'Science Fiction', 'Animation', 'Foreign', 'Fantasy', 'War', 'Action', 'History', 'Music', 'Crime', 'Horror'}\n"
     ]
    },
    {
     "data": {
      "text/plain": [
       "20"
      ]
     },
     "execution_count": 62,
     "metadata": {},
     "output_type": "execute_result"
    }
   ],
   "source": [
    "genre_list = get_list(train_data, 'genre_names')\n",
    "print(genre_list)\n",
    "len(genre_list)"
   ]
  },
  {
   "cell_type": "code",
   "execution_count": 63,
   "metadata": {
    "colab": {
     "base_uri": "https://localhost:8080/"
    },
    "id": "9fs3z7f7nQzG",
    "outputId": "e2239df1-142a-47e1-8b9d-4e5ee4fc83c6"
   },
   "outputs": [
    {
     "name": "stdout",
     "output_type": "stream",
     "text": [
      "{'Aruba', 'Netherlands', 'Slovakia', 'Brazil', 'Mexico', 'Bosnia and Herzegovina', 'Kazakhstan', 'Fiji', 'Japan', 'Pakistan', 'India', 'Germany', 'Ukraine', 'China', 'France', 'Poland', 'Malaysia', 'Austria', 'New Zealand', 'Russia', 'South Africa', 'Panama', 'Portugal', 'Switzerland', 'Philippines', 'Bolivia', 'Iceland', 'Argentina', 'Tunisia', 'South Korea', 'Denmark', 'Norway', 'Czech Republic', 'Belgium', 'United Arab Emirates', 'Taiwan', 'Romania', 'Australia', 'Spain', 'United Kingdom', 'Morocco', 'Ireland', 'Thailand', 'Hong Kong', 'Italy', 'United States of America', 'Hungary', 'Bulgaria', 'Serbia', 'Finland', 'Cambodia', 'Sweden', 'Israel', 'Luxembourg', 'Canada'}\n"
     ]
    },
    {
     "data": {
      "text/plain": [
       "55"
      ]
     },
     "execution_count": 63,
     "metadata": {},
     "output_type": "execute_result"
    }
   ],
   "source": [
    "country_list = get_list(train_data,'production_country')\n",
    "print(country_list)\n",
    "len(country_list)\n"
   ]
  },
  {
   "cell_type": "code",
   "execution_count": 64,
   "metadata": {
    "colab": {
     "base_uri": "https://localhost:8080/"
    },
    "id": "wUTSc9ANnS8C",
    "outputId": "f924f0e0-fab6-4c57-a916-ad6ceb9157f2"
   },
   "outputs": [
    {
     "data": {
      "text/plain": [
       "2775"
      ]
     },
     "execution_count": 64,
     "metadata": {},
     "output_type": "execute_result"
    }
   ],
   "source": [
    "company_list = get_list(train_data, 'production_company')\n",
    "len(company_list)"
   ]
  },
  {
   "cell_type": "code",
   "execution_count": 65,
   "metadata": {
    "colab": {
     "base_uri": "https://localhost:8080/"
    },
    "id": "3dEtVKixnVS4",
    "outputId": "05b65772-e11e-48fb-dfdf-308ea6accde3"
   },
   "outputs": [
    {
     "data": {
      "text/plain": [
       "6363"
      ]
     },
     "execution_count": 65,
     "metadata": {},
     "output_type": "execute_result"
    }
   ],
   "source": [
    "keyword_list = get_list(train_data, 'keyword')\n",
    "len(keyword_list)"
   ]
  },
  {
   "cell_type": "code",
   "execution_count": 66,
   "metadata": {
    "id": "GobWet8sngfQ"
   },
   "outputs": [],
   "source": [
    "# One Hot Encoding \n",
    "def one_hot_encoding(data, lst, col):\n",
    "  for item in lst:\n",
    "    data[item] = data[col].apply(lambda x: 1 if item in x else 0)\n",
    "  data.drop(columns = [col], axis = 1, inplace = True)"
   ]
  },
  {
   "cell_type": "code",
   "execution_count": 67,
   "metadata": {
    "colab": {
     "base_uri": "https://localhost:8080/"
    },
    "id": "uxc5OPDWnjbd",
    "outputId": "235ce214-fff5-45b0-c96d-2325c650d9b8"
   },
   "outputs": [
    {
     "data": {
      "text/plain": [
       "(2194, 42)"
      ]
     },
     "execution_count": 67,
     "metadata": {},
     "output_type": "execute_result"
    }
   ],
   "source": [
    "one_hot_encoding(train_data, genre_list, 'genre_names')\n",
    "train_data.shape"
   ]
  },
  {
   "cell_type": "code",
   "execution_count": 68,
   "metadata": {
    "colab": {
     "base_uri": "https://localhost:8080/"
    },
    "id": "NYZCx8gvnjd_",
    "outputId": "801b7898-97ff-4440-e4a6-c3c60934a945"
   },
   "outputs": [
    {
     "data": {
      "text/plain": [
       "(2194, 96)"
      ]
     },
     "execution_count": 68,
     "metadata": {},
     "output_type": "execute_result"
    }
   ],
   "source": [
    "one_hot_encoding(train_data, country_list, 'production_country')\n",
    "train_data.shape"
   ]
  },
  {
   "cell_type": "code",
   "execution_count": 69,
   "metadata": {
    "colab": {
     "base_uri": "https://localhost:8080/"
    },
    "id": "qgvOY7twnjgZ",
    "outputId": "db0561df-9288-424c-96f2-644099a165f3"
   },
   "outputs": [
    {
     "data": {
      "text/plain": [
       "(2194, 148)"
      ]
     },
     "execution_count": 69,
     "metadata": {},
     "output_type": "execute_result"
    }
   ],
   "source": [
    "\n",
    "one_hot_encoding(train_data, lang_list, 'Lang')\n",
    "train_data.shape"
   ]
  },
  {
   "cell_type": "code",
   "execution_count": 70,
   "metadata": {
    "colab": {
     "base_uri": "https://localhost:8080/"
    },
    "id": "pBa-W6i5nji9",
    "outputId": "f154f661-ab68-4584-d20a-3bae2395bcc7"
   },
   "outputs": [
    {
     "data": {
      "text/plain": [
       "(2194, 165)"
      ]
     },
     "execution_count": 70,
     "metadata": {},
     "output_type": "execute_result"
    }
   ],
   "source": [
    "tld_list = train_data['tld'].unique()\n",
    "one_hot_encoding(train_data, tld_list, 'tld')\n",
    "train_data.shape"
   ]
  },
  {
   "cell_type": "code",
   "execution_count": 71,
   "metadata": {},
   "outputs": [],
   "source": [
    "# splits each string into a list of words using whitespace as the delimiter\n",
    "train_data['overview'] = train_data['overview'].apply(lambda x:x.split())\n",
    "train_data['tagline'] = train_data['tagline'].apply(lambda x:x.split())"
   ]
  },
  {
   "cell_type": "code",
   "execution_count": 72,
   "metadata": {},
   "outputs": [],
   "source": [
    "def Remove_spaces(col):\n",
    "    lst = []\n",
    "    for item in col:\n",
    "        item = item.replace(\" \",\"\")\n",
    "        lst.append(item)\n",
    "    return lst"
   ]
  },
  {
   "cell_type": "code",
   "execution_count": 73,
   "metadata": {},
   "outputs": [],
   "source": [
    "train_data['cast_names'] = train_data['cast_names'].apply(Remove_spaces)\n",
    "train_data['Director'] = train_data['Director'].apply(Remove_spaces)\n",
    "train_data['production_company']  =  train_data['production_company'].apply(Remove_spaces)\n",
    "train_data['keyword'] = train_data['keyword'].apply(Remove_spaces)"
   ]
  },
  {
   "cell_type": "code",
   "execution_count": 74,
   "metadata": {},
   "outputs": [],
   "source": [
    "train_data['tags'] = train_data['tagline'] + train_data['overview'] + train_data['production_company'] + train_data['keyword'] + train_data['Director'] + train_data['cast_names']\n",
    "train_data = train_data.drop(columns = ['tagline', 'overview','production_company','keyword','Director','cast_names'])\n",
    "train_data['tags'] = train_data['tags'].apply(lambda x: \" \".join(x))"
   ]
  },
  {
   "cell_type": "code",
   "execution_count": 75,
   "metadata": {
    "colab": {
     "base_uri": "https://localhost:8080/"
    },
    "id": "8AiJzkqnnjlo",
    "outputId": "88bfbf7a-9fd0-4667-f615-068305de0b9d"
   },
   "outputs": [
    {
     "name": "stdout",
     "output_type": "stream",
     "text": [
      "[0.04800423 0.01588566 0.01756544 ... 0.03630281 0.02305861 0.02690622]\n"
     ]
    }
   ],
   "source": [
    "from sklearn.feature_extraction.text import CountVectorizer\n",
    "from sklearn.metrics.pairwise import cosine_similarity\n",
    "\n",
    "cv = CountVectorizer(max_features=5000,stop_words='english')\n",
    "\n",
    "vec = cv.fit_transform(train_data['tags']).toarray()\n",
    "similarity = cosine_similarity(vec)\n",
    "\n",
    "average_similarity = np.mean(similarity, axis=1)\n",
    "\n",
    "print(average_similarity)"
   ]
  },
  {
   "cell_type": "code",
   "execution_count": 76,
   "metadata": {
    "id": "flr3SALsnjnr"
   },
   "outputs": [],
   "source": [
    "train_data = train_data.drop(columns = ['tags'], axis = 1)\n",
    "combined_features = np.column_stack((train_data, average_similarity))"
   ]
  },
  {
   "cell_type": "code",
   "execution_count": 77,
   "metadata": {
    "colab": {
     "base_uri": "https://localhost:8080/"
    },
    "id": "jRPbZOtvnjrF",
    "outputId": "a407d2ca-d940-452d-8d98-37a11645b3d7"
   },
   "outputs": [
    {
     "data": {
      "text/plain": [
       "(2194, 159)"
      ]
     },
     "execution_count": 77,
     "metadata": {},
     "output_type": "execute_result"
    }
   ],
   "source": [
    "train_data.shape"
   ]
  },
  {
   "cell_type": "code",
   "execution_count": 78,
   "metadata": {
    "colab": {
     "base_uri": "https://localhost:8080/"
    },
    "id": "c6Z42PfQoGsx",
    "outputId": "bee15271-b923-47ae-c2dd-335ef5648c2d"
   },
   "outputs": [
    {
     "data": {
      "text/plain": [
       "(2194, 160)"
      ]
     },
     "execution_count": 78,
     "metadata": {},
     "output_type": "execute_result"
    }
   ],
   "source": [
    "combined_features.shape"
   ]
  },
  {
   "cell_type": "code",
   "execution_count": 79,
   "metadata": {},
   "outputs": [
    {
     "data": {
      "text/html": [
       "<div>\n",
       "<style scoped>\n",
       "    .dataframe tbody tr th:only-of-type {\n",
       "        vertical-align: middle;\n",
       "    }\n",
       "\n",
       "    .dataframe tbody tr th {\n",
       "        vertical-align: top;\n",
       "    }\n",
       "\n",
       "    .dataframe thead th {\n",
       "        text-align: right;\n",
       "    }\n",
       "</style>\n",
       "<table border=\"1\" class=\"dataframe\">\n",
       "  <thead>\n",
       "    <tr style=\"text-align: right;\">\n",
       "      <th></th>\n",
       "      <th>budget</th>\n",
       "      <th>id</th>\n",
       "      <th>original_language</th>\n",
       "      <th>original_title</th>\n",
       "      <th>viewercount</th>\n",
       "      <th>revenue</th>\n",
       "      <th>runtime</th>\n",
       "      <th>status</th>\n",
       "      <th>title</th>\n",
       "      <th>vote_count</th>\n",
       "      <th>...</th>\n",
       "      <th>movie</th>\n",
       "      <th>dk</th>\n",
       "      <th>ch http:</th>\n",
       "      <th>ru</th>\n",
       "      <th>hk</th>\n",
       "      <th>za</th>\n",
       "      <th>cn</th>\n",
       "      <th>ca</th>\n",
       "      <th>ie</th>\n",
       "      <th>tags</th>\n",
       "    </tr>\n",
       "  </thead>\n",
       "  <tbody>\n",
       "    <tr>\n",
       "      <th>0</th>\n",
       "      <td>0</td>\n",
       "      <td>14608</td>\n",
       "      <td>en</td>\n",
       "      <td>Partition</td>\n",
       "      <td>2.131524</td>\n",
       "      <td>0</td>\n",
       "      <td>116.0</td>\n",
       "      <td>Released</td>\n",
       "      <td>Partition</td>\n",
       "      <td>6</td>\n",
       "      <td>...</td>\n",
       "      <td>0</td>\n",
       "      <td>0</td>\n",
       "      <td>0</td>\n",
       "      <td>0</td>\n",
       "      <td>0</td>\n",
       "      <td>0</td>\n",
       "      <td>0</td>\n",
       "      <td>0</td>\n",
       "      <td>0</td>\n",
       "      <td>0.048004</td>\n",
       "    </tr>\n",
       "    <tr>\n",
       "      <th>1</th>\n",
       "      <td>4000000</td>\n",
       "      <td>8337</td>\n",
       "      <td>en</td>\n",
       "      <td>They Live</td>\n",
       "      <td>29.852608</td>\n",
       "      <td>13008928</td>\n",
       "      <td>94.0</td>\n",
       "      <td>Released</td>\n",
       "      <td>They Live</td>\n",
       "      <td>550</td>\n",
       "      <td>...</td>\n",
       "      <td>0</td>\n",
       "      <td>0</td>\n",
       "      <td>0</td>\n",
       "      <td>0</td>\n",
       "      <td>0</td>\n",
       "      <td>0</td>\n",
       "      <td>0</td>\n",
       "      <td>0</td>\n",
       "      <td>0</td>\n",
       "      <td>0.015886</td>\n",
       "    </tr>\n",
       "    <tr>\n",
       "      <th>2</th>\n",
       "      <td>40000000</td>\n",
       "      <td>24803</td>\n",
       "      <td>en</td>\n",
       "      <td>Julie &amp; Julia</td>\n",
       "      <td>22.853006</td>\n",
       "      <td>129540499</td>\n",
       "      <td>123.0</td>\n",
       "      <td>Released</td>\n",
       "      <td>Julie &amp; Julia</td>\n",
       "      <td>560</td>\n",
       "      <td>...</td>\n",
       "      <td>0</td>\n",
       "      <td>0</td>\n",
       "      <td>0</td>\n",
       "      <td>0</td>\n",
       "      <td>0</td>\n",
       "      <td>0</td>\n",
       "      <td>0</td>\n",
       "      <td>0</td>\n",
       "      <td>0</td>\n",
       "      <td>0.017565</td>\n",
       "    </tr>\n",
       "    <tr>\n",
       "      <th>3</th>\n",
       "      <td>10000000</td>\n",
       "      <td>73567</td>\n",
       "      <td>en</td>\n",
       "      <td>Killer Joe</td>\n",
       "      <td>16.436178</td>\n",
       "      <td>3665069</td>\n",
       "      <td>102.0</td>\n",
       "      <td>Released</td>\n",
       "      <td>Killer Joe</td>\n",
       "      <td>425</td>\n",
       "      <td>...</td>\n",
       "      <td>0</td>\n",
       "      <td>0</td>\n",
       "      <td>0</td>\n",
       "      <td>0</td>\n",
       "      <td>0</td>\n",
       "      <td>0</td>\n",
       "      <td>0</td>\n",
       "      <td>0</td>\n",
       "      <td>0</td>\n",
       "      <td>0.029361</td>\n",
       "    </tr>\n",
       "    <tr>\n",
       "      <th>4</th>\n",
       "      <td>25000000</td>\n",
       "      <td>14177</td>\n",
       "      <td>en</td>\n",
       "      <td>Beauty Shop</td>\n",
       "      <td>5.625632</td>\n",
       "      <td>36351350</td>\n",
       "      <td>105.0</td>\n",
       "      <td>Released</td>\n",
       "      <td>Beauty Shop</td>\n",
       "      <td>115</td>\n",
       "      <td>...</td>\n",
       "      <td>0</td>\n",
       "      <td>0</td>\n",
       "      <td>0</td>\n",
       "      <td>0</td>\n",
       "      <td>0</td>\n",
       "      <td>0</td>\n",
       "      <td>0</td>\n",
       "      <td>0</td>\n",
       "      <td>0</td>\n",
       "      <td>0.004694</td>\n",
       "    </tr>\n",
       "  </tbody>\n",
       "</table>\n",
       "<p>5 rows × 160 columns</p>\n",
       "</div>"
      ],
      "text/plain": [
       "     budget     id original_language original_title viewercount    revenue  \\\n",
       "0         0  14608                en      Partition    2.131524          0   \n",
       "1   4000000   8337                en      They Live   29.852608   13008928   \n",
       "2  40000000  24803                en  Julie & Julia   22.853006  129540499   \n",
       "3  10000000  73567                en     Killer Joe   16.436178    3665069   \n",
       "4  25000000  14177                en    Beauty Shop    5.625632   36351350   \n",
       "\n",
       "  runtime    status          title vote_count  ... movie dk ch http: ru hk za  \\\n",
       "0   116.0  Released      Partition          6  ...     0  0        0  0  0  0   \n",
       "1    94.0  Released      They Live        550  ...     0  0        0  0  0  0   \n",
       "2   123.0  Released  Julie & Julia        560  ...     0  0        0  0  0  0   \n",
       "3   102.0  Released     Killer Joe        425  ...     0  0        0  0  0  0   \n",
       "4   105.0  Released    Beauty Shop        115  ...     0  0        0  0  0  0   \n",
       "\n",
       "  cn ca ie      tags  \n",
       "0  0  0  0  0.048004  \n",
       "1  0  0  0  0.015886  \n",
       "2  0  0  0  0.017565  \n",
       "3  0  0  0  0.029361  \n",
       "4  0  0  0  0.004694  \n",
       "\n",
       "[5 rows x 160 columns]"
      ]
     },
     "execution_count": 79,
     "metadata": {},
     "output_type": "execute_result"
    }
   ],
   "source": [
    "col_names = train_data.columns.tolist()\n",
    "col_names.append('tags')\n",
    "train_data = pd.DataFrame(combined_features, columns = col_names)\n",
    "\n",
    "train_data.head()"
   ]
  },
  {
   "cell_type": "code",
   "execution_count": 80,
   "metadata": {
    "colab": {
     "base_uri": "https://localhost:8080/"
    },
    "id": "8jvDxGvqoMJJ",
    "outputId": "043f3dae-091e-40e3-b960-2935225b117f"
   },
   "outputs": [
    {
     "data": {
      "text/plain": [
       "en    2078\n",
       "fr      37\n",
       "zh      18\n",
       "es      10\n",
       "de       9\n",
       "ru       7\n",
       "hi       6\n",
       "cn       6\n",
       "ko       5\n",
       "ja       3\n",
       "it       3\n",
       "pt       2\n",
       "th       2\n",
       "da       2\n",
       "sv       1\n",
       "ta       1\n",
       "cs       1\n",
       "hu       1\n",
       "te       1\n",
       "nl       1\n",
       "Name: original_language, dtype: int64"
      ]
     },
     "execution_count": 80,
     "metadata": {},
     "output_type": "execute_result"
    }
   ],
   "source": [
    "train_data['original_language'].value_counts()"
   ]
  },
  {
   "cell_type": "code",
   "execution_count": 81,
   "metadata": {},
   "outputs": [
    {
     "data": {
      "text/plain": [
       "2078"
      ]
     },
     "execution_count": 81,
     "metadata": {},
     "output_type": "execute_result"
    }
   ],
   "source": [
    "en_count = train_data['original_language'].value_counts()[0]\n",
    "en_count"
   ]
  },
  {
   "cell_type": "code",
   "execution_count": 82,
   "metadata": {
    "colab": {
     "base_uri": "https://localhost:8080/",
     "height": 680
    },
    "id": "6_qBYcVPoMjr",
    "outputId": "3af58642-0068-4a66-e106-ed3942a29558"
   },
   "outputs": [
    {
     "data": {
      "text/plain": [
       "([<matplotlib.patches.Wedge at 0x1bae1dac2b0>,\n",
       "  <matplotlib.patches.Wedge at 0x1bae1d99a00>],\n",
       " [Text(-0.18187168053317412, -1.0848606785297545, 'English'),\n",
       "  Text(0.1818716678366755, 1.0848606806582615, 'other Languages')],\n",
       " [Text(-0.09920273483627678, -0.591742188288957, '94.7%'),\n",
       "  Text(0.09920272791091389, 0.5917421894499607, '5.3%')])"
      ]
     },
     "execution_count": 82,
     "metadata": {},
     "output_type": "execute_result"
    },
    {
     "data": {
      "image/png": "[encoded data removed]",
      "text/plain": [
       "<Figure size 700x700 with 1 Axes>"
      ]
     },
     "metadata": {},
     "output_type": "display_data"
    }
   ],
   "source": [
    "import matplotlib.pyplot as plt\n",
    "%matplotlib inline\n",
    "\n",
    "labels = np.array(['English','other Languages'])\n",
    "perc = np.array([en_count, sum(train_data['original_language'].value_counts()) - en_count])\n",
    "\n",
    "plt.figure(figsize=(7,7))\n",
    "plt.pie(perc, labels=labels, autopct='%1.1f%%', startangle=90)"
   ]
  },
  {
   "cell_type": "code",
   "execution_count": 83,
   "metadata": {
    "colab": {
     "base_uri": "https://localhost:8080/"
    },
    "id": "qGLJDyK4oMl-",
    "outputId": "4d56bd86-3014-4729-e777-441f05d410f2"
   },
   "outputs": [
    {
     "data": {
      "text/plain": [
       "1    2078\n",
       "0     116\n",
       "Name: original_language, dtype: int64"
      ]
     },
     "execution_count": 83,
     "metadata": {},
     "output_type": "execute_result"
    }
   ],
   "source": [
    "train_data['original_language'] = train_data['original_language'].apply(lambda x: 1 if 'en' == x else 0)\n",
    "\n",
    "train_data['original_language'].value_counts()"
   ]
  },
  {
   "cell_type": "code",
   "execution_count": 84,
   "metadata": {
    "colab": {
     "base_uri": "https://localhost:8080/"
    },
    "id": "1RHr2qgnoMpm",
    "outputId": "496646e3-7941-4670-9c61-6bafa49c27bf"
   },
   "outputs": [
    {
     "data": {
      "text/plain": [
       "array(['Released', 'Post Production'], dtype=object)"
      ]
     },
     "execution_count": 84,
     "metadata": {},
     "output_type": "execute_result"
    }
   ],
   "source": [
    "train_data['status'].unique()\n"
   ]
  },
  {
   "cell_type": "code",
   "execution_count": 85,
   "metadata": {
    "id": "Qv9KwCiioc6n"
   },
   "outputs": [],
   "source": [
    "train_data['status'] = train_data['status'].apply(lambda x: 1 if 'Released' == x else 0)\n",
    "\n",
    "train_data = train_data.drop(columns = ['id', 'original_title', 'title' , 'movie_id'], axis = 1)\n",
    "\n",
    "x_train = train_data.drop(columns = ['Rate'], axis = 1)\n",
    "y_train = train_data['Rate']\n"
   ]
  },
  {
   "cell_type": "code",
   "execution_count": 86,
   "metadata": {
    "id": "W7d-Bjy5v0Lr"
   },
   "outputs": [],
   "source": [
    "#encoding = {'High': 2, 'Intermediate': 1, 'Low': 0}\n",
    "\n",
    "#train_data['Rate'] = train_data['Rate'].map(encoding)\n",
    "\n",
    "#y_train = train_data['Rate']"
   ]
  },
  {
   "cell_type": "code",
   "execution_count": 87,
   "metadata": {
    "colab": {
     "base_uri": "https://localhost:8080/"
    },
    "id": "TO-v2imgHokt",
    "outputId": "30c79b84-630c-4f02-977a-b562c460573c"
   },
   "outputs": [
    {
     "data": {
      "text/plain": [
       "Intermediate    1403\n",
       "High             592\n",
       "Low              199\n",
       "Name: Rate, dtype: int64"
      ]
     },
     "execution_count": 87,
     "metadata": {},
     "output_type": "execute_result"
    }
   ],
   "source": [
    "train_data['Rate'].value_counts()"
   ]
  },
  {
   "cell_type": "code",
   "execution_count": 88,
   "metadata": {
    "colab": {
     "base_uri": "https://localhost:8080/"
    },
    "id": "cM0MYKqKohkf",
    "outputId": "56fe3531-430b-4058-88e9-b3cfeb3ad1d2"
   },
   "outputs": [
    {
     "data": {
      "text/plain": [
       "array([0, 1, 2.131524, 0, 116.0, 6, 2007, 1, 0, 0, 0, 0, 0, 0, 0, 1, 0, 0,\n",
       "       1, 0.048004233668457706], dtype=object)"
      ]
     },
     "execution_count": 88,
     "metadata": {},
     "output_type": "execute_result"
    }
   ],
   "source": [
    "#Feature Selection\n",
    "from sklearn.feature_selection import SelectKBest\n",
    "from sklearn.feature_selection import f_classif\n",
    "feature_selector = SelectKBest(score_func=f_classif, k= 20)\n",
    "fit = feature_selector.fit(x_train, y_train)\n",
    "features = fit.transform(x_train)\n",
    "features[0,:]"
   ]
  },
  {
   "cell_type": "code",
   "execution_count": 89,
   "metadata": {
    "colab": {
     "base_uri": "https://localhost:8080/"
    },
    "id": "1jnFEubBohm6",
    "outputId": "49a2e38c-4915-4179-d2d6-2b57b840f4dc"
   },
   "outputs": [
    {
     "data": {
      "text/plain": [
       "Index(['budget', 'original_language', 'viewercount', 'revenue', 'runtime',\n",
       "       'vote_count', 'release_year', 'Drama', 'Thriller', 'Comedy',\n",
       "       'Science Fiction', 'War', 'Action', 'History', 'Horror',\n",
       "       'United Kingdom', 'Italy', 'United States of America', 'English',\n",
       "       'tags'],\n",
       "      dtype='object')"
      ]
     },
     "execution_count": 89,
     "metadata": {},
     "output_type": "execute_result"
    }
   ],
   "source": [
    "names = x_train.columns[feature_selector.get_support()]\n",
    "names"
   ]
  },
  {
   "cell_type": "code",
   "execution_count": 90,
   "metadata": {
    "id": "9bh23tqopdEG"
   },
   "outputs": [],
   "source": [
    "x_train = train_data[names]\n",
    "y_train = train_data['Rate']"
   ]
  },
  {
   "cell_type": "code",
   "execution_count": 91,
   "metadata": {
    "colab": {
     "base_uri": "https://localhost:8080/",
     "height": 206
    },
    "id": "4tCcjUVgqFHk",
    "outputId": "f3d0e4a5-e932-4262-ffc5-9fa4eb96085a"
   },
   "outputs": [
    {
     "data": {
      "text/html": [
       "<div>\n",
       "<style scoped>\n",
       "    .dataframe tbody tr th:only-of-type {\n",
       "        vertical-align: middle;\n",
       "    }\n",
       "\n",
       "    .dataframe tbody tr th {\n",
       "        vertical-align: top;\n",
       "    }\n",
       "\n",
       "    .dataframe thead th {\n",
       "        text-align: right;\n",
       "    }\n",
       "</style>\n",
       "<table border=\"1\" class=\"dataframe\">\n",
       "  <thead>\n",
       "    <tr style=\"text-align: right;\">\n",
       "      <th></th>\n",
       "      <th>budget</th>\n",
       "      <th>original_language</th>\n",
       "      <th>viewercount</th>\n",
       "      <th>revenue</th>\n",
       "      <th>runtime</th>\n",
       "      <th>vote_count</th>\n",
       "      <th>release_year</th>\n",
       "      <th>Drama</th>\n",
       "      <th>Thriller</th>\n",
       "      <th>Comedy</th>\n",
       "      <th>Science Fiction</th>\n",
       "      <th>War</th>\n",
       "      <th>Action</th>\n",
       "      <th>History</th>\n",
       "      <th>Horror</th>\n",
       "      <th>United Kingdom</th>\n",
       "      <th>Italy</th>\n",
       "      <th>United States of America</th>\n",
       "      <th>English</th>\n",
       "      <th>tags</th>\n",
       "    </tr>\n",
       "  </thead>\n",
       "  <tbody>\n",
       "    <tr>\n",
       "      <th>0</th>\n",
       "      <td>0</td>\n",
       "      <td>1</td>\n",
       "      <td>2.131524</td>\n",
       "      <td>0</td>\n",
       "      <td>116.0</td>\n",
       "      <td>6</td>\n",
       "      <td>2007</td>\n",
       "      <td>1</td>\n",
       "      <td>0</td>\n",
       "      <td>0</td>\n",
       "      <td>0</td>\n",
       "      <td>0</td>\n",
       "      <td>0</td>\n",
       "      <td>0</td>\n",
       "      <td>0</td>\n",
       "      <td>1</td>\n",
       "      <td>0</td>\n",
       "      <td>0</td>\n",
       "      <td>1</td>\n",
       "      <td>0.048004</td>\n",
       "    </tr>\n",
       "    <tr>\n",
       "      <th>1</th>\n",
       "      <td>4000000</td>\n",
       "      <td>1</td>\n",
       "      <td>29.852608</td>\n",
       "      <td>13008928</td>\n",
       "      <td>94.0</td>\n",
       "      <td>550</td>\n",
       "      <td>1988</td>\n",
       "      <td>0</td>\n",
       "      <td>1</td>\n",
       "      <td>0</td>\n",
       "      <td>1</td>\n",
       "      <td>0</td>\n",
       "      <td>1</td>\n",
       "      <td>0</td>\n",
       "      <td>1</td>\n",
       "      <td>0</td>\n",
       "      <td>0</td>\n",
       "      <td>1</td>\n",
       "      <td>1</td>\n",
       "      <td>0.015886</td>\n",
       "    </tr>\n",
       "    <tr>\n",
       "      <th>2</th>\n",
       "      <td>40000000</td>\n",
       "      <td>1</td>\n",
       "      <td>22.853006</td>\n",
       "      <td>129540499</td>\n",
       "      <td>123.0</td>\n",
       "      <td>560</td>\n",
       "      <td>2009</td>\n",
       "      <td>1</td>\n",
       "      <td>0</td>\n",
       "      <td>0</td>\n",
       "      <td>0</td>\n",
       "      <td>0</td>\n",
       "      <td>0</td>\n",
       "      <td>0</td>\n",
       "      <td>0</td>\n",
       "      <td>0</td>\n",
       "      <td>0</td>\n",
       "      <td>1</td>\n",
       "      <td>1</td>\n",
       "      <td>0.017565</td>\n",
       "    </tr>\n",
       "    <tr>\n",
       "      <th>3</th>\n",
       "      <td>10000000</td>\n",
       "      <td>1</td>\n",
       "      <td>16.436178</td>\n",
       "      <td>3665069</td>\n",
       "      <td>102.0</td>\n",
       "      <td>425</td>\n",
       "      <td>2011</td>\n",
       "      <td>1</td>\n",
       "      <td>1</td>\n",
       "      <td>0</td>\n",
       "      <td>0</td>\n",
       "      <td>0</td>\n",
       "      <td>0</td>\n",
       "      <td>0</td>\n",
       "      <td>0</td>\n",
       "      <td>0</td>\n",
       "      <td>0</td>\n",
       "      <td>1</td>\n",
       "      <td>1</td>\n",
       "      <td>0.029361</td>\n",
       "    </tr>\n",
       "    <tr>\n",
       "      <th>4</th>\n",
       "      <td>25000000</td>\n",
       "      <td>1</td>\n",
       "      <td>5.625632</td>\n",
       "      <td>36351350</td>\n",
       "      <td>105.0</td>\n",
       "      <td>115</td>\n",
       "      <td>2005</td>\n",
       "      <td>0</td>\n",
       "      <td>0</td>\n",
       "      <td>1</td>\n",
       "      <td>0</td>\n",
       "      <td>0</td>\n",
       "      <td>0</td>\n",
       "      <td>0</td>\n",
       "      <td>0</td>\n",
       "      <td>0</td>\n",
       "      <td>0</td>\n",
       "      <td>1</td>\n",
       "      <td>1</td>\n",
       "      <td>0.004694</td>\n",
       "    </tr>\n",
       "  </tbody>\n",
       "</table>\n",
       "</div>"
      ],
      "text/plain": [
       "     budget  original_language viewercount    revenue runtime vote_count  \\\n",
       "0         0                  1    2.131524          0   116.0          6   \n",
       "1   4000000                  1   29.852608   13008928    94.0        550   \n",
       "2  40000000                  1   22.853006  129540499   123.0        560   \n",
       "3  10000000                  1   16.436178    3665069   102.0        425   \n",
       "4  25000000                  1    5.625632   36351350   105.0        115   \n",
       "\n",
       "  release_year Drama Thriller Comedy Science Fiction War Action History  \\\n",
       "0         2007     1        0      0               0   0      0       0   \n",
       "1         1988     0        1      0               1   0      1       0   \n",
       "2         2009     1        0      0               0   0      0       0   \n",
       "3         2011     1        1      0               0   0      0       0   \n",
       "4         2005     0        0      1               0   0      0       0   \n",
       "\n",
       "  Horror United Kingdom Italy United States of America English      tags  \n",
       "0      0              1     0                        0       1  0.048004  \n",
       "1      1              0     0                        1       1  0.015886  \n",
       "2      0              0     0                        1       1  0.017565  \n",
       "3      0              0     0                        1       1  0.029361  \n",
       "4      0              0     0                        1       1  0.004694  "
      ]
     },
     "execution_count": 91,
     "metadata": {},
     "output_type": "execute_result"
    }
   ],
   "source": [
    "x_train.head()"
   ]
  },
  {
   "cell_type": "code",
   "execution_count": 92,
   "metadata": {
    "id": "_DECnrKsuwJi"
   },
   "outputs": [],
   "source": [
    "def proprocessing(dataset):\n",
    " \n",
    "  \n",
    "  dataset = dataset.drop_duplicates()\n",
    "  dataset = drop_outliers(dataset, 3)\n",
    "  extract_name('spoken_languages', dataset, 'Lang')\n",
    "  extract_name('genres', dataset, 'genre_names')\n",
    "  extract_name('production_companies', dataset, 'production_company')\n",
    "  extract_name('production_countries', dataset, 'production_country')\n",
    "  extract_name('keywords', dataset, 'keyword')\n",
    "  extract_features(dataset, 'crew')\n",
    "  main_actores(dataset, 'cast')\n",
    "  Extract_year(dataset)\n",
    "  one_hot_encoding(dataset, genre_list, 'genre_names')\n",
    "  one_hot_encoding(dataset, country_list, 'production_country')\n",
    "  one_hot_encoding(dataset, lang_list, 'Lang')\n",
    "  one_hot_encoding(dataset, tld_list, 'tld')\n",
    "  return dataset"
   ]
  },
  {
   "cell_type": "code",
   "execution_count": 93,
   "metadata": {
    "id": "7C_COTxbuqeN"
   },
   "outputs": [],
   "source": [
    "def processing2(dataset):\n",
    "  dataset['overview'] = dataset['overview'].apply(lambda x:x.split())\n",
    "  dataset['tagline'] = dataset['tagline'].apply(lambda x:x.split())\n",
    "\n",
    "  dataset['cast_names'] = dataset['cast_names'].apply(Remove_spaces)\n",
    "  dataset['Director'] = dataset['Director'].apply(Remove_spaces)\n",
    "  dataset['production_company']  =  dataset['production_company'].apply(Remove_spaces)\n",
    "  dataset['keyword'] = dataset['keyword'].apply(Remove_spaces)\n",
    "\n",
    "  dataset['tags'] = dataset['tagline'] + dataset['overview'] + dataset['production_company'] + dataset['keyword'] + dataset['Director'] + dataset['cast_names']\n",
    "  dataset = dataset.drop(columns = ['tagline', 'overview','production_company','keyword','Director','cast_names'])\n",
    "  dataset['tags'] = dataset['tags'].apply(lambda x: \" \".join(x))\n",
    "\n",
    "  vec_test = cv.transform(dataset['tags']).toarray()\n",
    "  similarity_test = cosine_similarity(vec_test)\n",
    "  similarity_mean = np.mean(similarity_test, axis = 1)\n",
    "  similarity_mean_column = similarity_mean.reshape(-1, 1)\n",
    "  \n",
    "\n",
    "  dataset = dataset.drop(columns = ['tags'], axis = 1)\n",
    "  combined_features2 = np.column_stack((dataset, similarity_mean_column))\n",
    "\n",
    "\n",
    "  col_names2 = dataset.columns.tolist()\n",
    "  col_names2.append('tags')\n",
    "  dataset = pd.DataFrame(combined_features2, columns = col_names2)\n",
    "\n",
    "  dataset['original_language'] = dataset['original_language'].apply(lambda x: 1 if 'en' == x else 0)\n",
    "  dataset['status'] = dataset['status'].apply(lambda x: 1 if 'Released' == x else 0)\n",
    "  dataset = dataset.drop(columns = ['id', 'original_title', 'title' , 'movie_id'], axis = 1)\n",
    "  return dataset"
   ]
  },
  {
   "cell_type": "code",
   "execution_count": 94,
   "metadata": {
    "colab": {
     "base_uri": "https://localhost:8080/"
    },
    "id": "_Uv31biMo-_b",
    "outputId": "2b461761-53c3-4754-bc14-058708ce3ec2"
   },
   "outputs": [
    {
     "data": {
      "text/plain": [
       "budget                  0\n",
       "genres                  0\n",
       "id                      0\n",
       "keywords                0\n",
       "original_language       0\n",
       "original_title          0\n",
       "overview                0\n",
       "viewercount             0\n",
       "production_companies    0\n",
       "production_countries    0\n",
       "release_date            0\n",
       "revenue                 0\n",
       "runtime                 0\n",
       "spoken_languages        0\n",
       "status                  0\n",
       "tagline                 0\n",
       "title                   0\n",
       "vote_count              0\n",
       "Rate                    0\n",
       "movie_id                0\n",
       "cast                    0\n",
       "crew                    0\n",
       "tld                     0\n",
       "dtype: int64"
      ]
     },
     "execution_count": 94,
     "metadata": {},
     "output_type": "execute_result"
    }
   ],
   "source": [
    "### Transforming Test Data\n",
    "# Missing Values\n",
    "test_data['tld'] = extract_tld(test_data['homepage'])\n",
    "test_data = test_data.drop(columns = ['homepage'], axis = 1)\n",
    "test_data['tld'] = test_data['tld'].fillna('com')\n",
    "test_data['tagline'] = test_data['tagline'].fillna('Unknown')\n",
    "test_data = test_data.dropna()\n",
    "test_data.isnull().sum()"
   ]
  },
  {
   "cell_type": "code",
   "execution_count": 95,
   "metadata": {},
   "outputs": [
    {
     "data": {
      "text/html": [
       "<div>\n",
       "<style scoped>\n",
       "    .dataframe tbody tr th:only-of-type {\n",
       "        vertical-align: middle;\n",
       "    }\n",
       "\n",
       "    .dataframe tbody tr th {\n",
       "        vertical-align: top;\n",
       "    }\n",
       "\n",
       "    .dataframe thead th {\n",
       "        text-align: right;\n",
       "    }\n",
       "</style>\n",
       "<table border=\"1\" class=\"dataframe\">\n",
       "  <thead>\n",
       "    <tr style=\"text-align: right;\">\n",
       "      <th></th>\n",
       "      <th>budget</th>\n",
       "      <th>genres</th>\n",
       "      <th>id</th>\n",
       "      <th>keywords</th>\n",
       "      <th>original_language</th>\n",
       "      <th>original_title</th>\n",
       "      <th>overview</th>\n",
       "      <th>viewercount</th>\n",
       "      <th>production_companies</th>\n",
       "      <th>production_countries</th>\n",
       "      <th>...</th>\n",
       "      <th>spoken_languages</th>\n",
       "      <th>status</th>\n",
       "      <th>tagline</th>\n",
       "      <th>title</th>\n",
       "      <th>vote_count</th>\n",
       "      <th>Rate</th>\n",
       "      <th>movie_id</th>\n",
       "      <th>cast</th>\n",
       "      <th>crew</th>\n",
       "      <th>tld</th>\n",
       "    </tr>\n",
       "  </thead>\n",
       "  <tbody>\n",
       "    <tr>\n",
       "      <th>1721</th>\n",
       "      <td>0</td>\n",
       "      <td>[{\"id\": 99, \"name\": \"Documentary\"}, {\"id\": 107...</td>\n",
       "      <td>36970</td>\n",
       "      <td>[{\"id\": 270, \"name\": \"ocean\"}, {\"id\": 658, \"na...</td>\n",
       "      <td>en</td>\n",
       "      <td>Oceans</td>\n",
       "      <td>An ecological drama/documentary, filmed throug...</td>\n",
       "      <td>10.706613</td>\n",
       "      <td>[{\"name\": \"Path\\u00e9 Films\", \"id\": 4959}, {\"n...</td>\n",
       "      <td>[{\"iso_3166_1\": \"FR\", \"name\": \"France\"}, {\"iso...</td>\n",
       "      <td>...</td>\n",
       "      <td>[{\"iso_639_1\": \"fr\", \"name\": \"Fran\\u00e7ais\"}]</td>\n",
       "      <td>Released</td>\n",
       "      <td>Explore the depths of our planet's oceans.  Ex...</td>\n",
       "      <td>Oceans</td>\n",
       "      <td>111</td>\n",
       "      <td>High</td>\n",
       "      <td>36970</td>\n",
       "      <td>[{\"cast_id\": 3, \"character\": \"Narrator (voice:...</td>\n",
       "      <td>[{\"credit_id\": \"54186c670e0a2637f900366f\", \"de...</td>\n",
       "      <td>com</td>\n",
       "    </tr>\n",
       "    <tr>\n",
       "      <th>2334</th>\n",
       "      <td>58800000</td>\n",
       "      <td>[{\"id\": 10752, \"name\": \"War\"}, {\"id\": 28, \"nam...</td>\n",
       "      <td>190859</td>\n",
       "      <td>[{\"id\": 1589, \"name\": \"sniper\"}, {\"id\": 5565, ...</td>\n",
       "      <td>en</td>\n",
       "      <td>American Sniper</td>\n",
       "      <td>U.S. Navy SEAL Chris Kyle takes his sole missi...</td>\n",
       "      <td>87.534370</td>\n",
       "      <td>[{\"name\": \"Village Roadshow Pictures\", \"id\": 7...</td>\n",
       "      <td>[{\"iso_3166_1\": \"US\", \"name\": \"United States o...</td>\n",
       "      <td>...</td>\n",
       "      <td>[{\"iso_639_1\": \"en\", \"name\": \"English\"}]</td>\n",
       "      <td>Released</td>\n",
       "      <td>The most lethal sniper in U.S. history.</td>\n",
       "      <td>American Sniper</td>\n",
       "      <td>4469</td>\n",
       "      <td>High</td>\n",
       "      <td>190859</td>\n",
       "      <td>[{\"cast_id\": 44, \"character\": \"Chris Kyle\", \"c...</td>\n",
       "      <td>[{\"credit_id\": \"52fe4c6f9251416c910f4d57\", \"de...</td>\n",
       "      <td>com</td>\n",
       "    </tr>\n",
       "    <tr>\n",
       "      <th>443</th>\n",
       "      <td>28000000</td>\n",
       "      <td>[{\"id\": 35, \"name\": \"Comedy\"}, {\"id\": 18, \"nam...</td>\n",
       "      <td>318846</td>\n",
       "      <td>[{\"id\": 974, \"name\": \"bank\"}, {\"id\": 4373, \"na...</td>\n",
       "      <td>en</td>\n",
       "      <td>The Big Short</td>\n",
       "      <td>The men who made millions from a global econom...</td>\n",
       "      <td>57.518472</td>\n",
       "      <td>[{\"name\": \"Paramount Pictures\", \"id\": 4}, {\"na...</td>\n",
       "      <td>[{\"iso_3166_1\": \"US\", \"name\": \"United States o...</td>\n",
       "      <td>...</td>\n",
       "      <td>[{\"iso_639_1\": \"en\", \"name\": \"English\"}]</td>\n",
       "      <td>Released</td>\n",
       "      <td>This is a true story.</td>\n",
       "      <td>The Big Short</td>\n",
       "      <td>2607</td>\n",
       "      <td>High</td>\n",
       "      <td>318846</td>\n",
       "      <td>[{\"cast_id\": 2, \"character\": \"Michael Burry\", ...</td>\n",
       "      <td>[{\"credit_id\": \"568349e09251414f6300f7b7\", \"de...</td>\n",
       "      <td>com</td>\n",
       "    </tr>\n",
       "    <tr>\n",
       "      <th>2332</th>\n",
       "      <td>30000000</td>\n",
       "      <td>[{\"id\": 878, \"name\": \"Science Fiction\"}, {\"id\"...</td>\n",
       "      <td>9920</td>\n",
       "      <td>[{\"id\": 1418, \"name\": \"skyscraper\"}, {\"id\": 31...</td>\n",
       "      <td>en</td>\n",
       "      <td>Ultraviolet</td>\n",
       "      <td>In the late 21st century, a subculture of huma...</td>\n",
       "      <td>15.895340</td>\n",
       "      <td>[{\"name\": \"Screen Gems\", \"id\": 3287}, {\"name\":...</td>\n",
       "      <td>[{\"iso_3166_1\": \"US\", \"name\": \"United States o...</td>\n",
       "      <td>...</td>\n",
       "      <td>[{\"iso_639_1\": \"en\", \"name\": \"English\"}, {\"iso...</td>\n",
       "      <td>Released</td>\n",
       "      <td>The blood war is on.</td>\n",
       "      <td>Ultraviolet</td>\n",
       "      <td>458</td>\n",
       "      <td>Low</td>\n",
       "      <td>9920</td>\n",
       "      <td>[{\"cast_id\": 22, \"character\": \"Violet Song Jat...</td>\n",
       "      <td>[{\"credit_id\": \"58a4c23ac3a3686cc2008ab8\", \"de...</td>\n",
       "      <td>com</td>\n",
       "    </tr>\n",
       "    <tr>\n",
       "      <th>2883</th>\n",
       "      <td>35000000</td>\n",
       "      <td>[{\"id\": 18, \"name\": \"Drama\"}]</td>\n",
       "      <td>39486</td>\n",
       "      <td>[{\"id\": 643, \"name\": \"horse race\"}, {\"id\": 228...</td>\n",
       "      <td>en</td>\n",
       "      <td>Secretariat</td>\n",
       "      <td>Housewife and mother Penny Chenery agrees to t...</td>\n",
       "      <td>9.525037</td>\n",
       "      <td>[{\"name\": \"Walt Disney Pictures\", \"id\": 2}, {\"...</td>\n",
       "      <td>[{\"iso_3166_1\": \"US\", \"name\": \"United States o...</td>\n",
       "      <td>...</td>\n",
       "      <td>[{\"iso_639_1\": \"en\", \"name\": \"English\"}]</td>\n",
       "      <td>Released</td>\n",
       "      <td>The Impossible True Story</td>\n",
       "      <td>Secretariat</td>\n",
       "      <td>103</td>\n",
       "      <td>High</td>\n",
       "      <td>39486</td>\n",
       "      <td>[{\"cast_id\": 1, \"character\": \"Penny Chenery\", ...</td>\n",
       "      <td>[{\"credit_id\": \"52fe471e9251416c9106a99f\", \"de...</td>\n",
       "      <td>com</td>\n",
       "    </tr>\n",
       "  </tbody>\n",
       "</table>\n",
       "<p>5 rows × 23 columns</p>\n",
       "</div>"
      ],
      "text/plain": [
       "        budget                                             genres      id  \\\n",
       "1721         0  [{\"id\": 99, \"name\": \"Documentary\"}, {\"id\": 107...   36970   \n",
       "2334  58800000  [{\"id\": 10752, \"name\": \"War\"}, {\"id\": 28, \"nam...  190859   \n",
       "443   28000000  [{\"id\": 35, \"name\": \"Comedy\"}, {\"id\": 18, \"nam...  318846   \n",
       "2332  30000000  [{\"id\": 878, \"name\": \"Science Fiction\"}, {\"id\"...    9920   \n",
       "2883  35000000                      [{\"id\": 18, \"name\": \"Drama\"}]   39486   \n",
       "\n",
       "                                               keywords original_language  \\\n",
       "1721  [{\"id\": 270, \"name\": \"ocean\"}, {\"id\": 658, \"na...                en   \n",
       "2334  [{\"id\": 1589, \"name\": \"sniper\"}, {\"id\": 5565, ...                en   \n",
       "443   [{\"id\": 974, \"name\": \"bank\"}, {\"id\": 4373, \"na...                en   \n",
       "2332  [{\"id\": 1418, \"name\": \"skyscraper\"}, {\"id\": 31...                en   \n",
       "2883  [{\"id\": 643, \"name\": \"horse race\"}, {\"id\": 228...                en   \n",
       "\n",
       "       original_title                                           overview  \\\n",
       "1721           Oceans  An ecological drama/documentary, filmed throug...   \n",
       "2334  American Sniper  U.S. Navy SEAL Chris Kyle takes his sole missi...   \n",
       "443     The Big Short  The men who made millions from a global econom...   \n",
       "2332      Ultraviolet  In the late 21st century, a subculture of huma...   \n",
       "2883      Secretariat  Housewife and mother Penny Chenery agrees to t...   \n",
       "\n",
       "      viewercount                               production_companies  \\\n",
       "1721    10.706613  [{\"name\": \"Path\\u00e9 Films\", \"id\": 4959}, {\"n...   \n",
       "2334    87.534370  [{\"name\": \"Village Roadshow Pictures\", \"id\": 7...   \n",
       "443     57.518472  [{\"name\": \"Paramount Pictures\", \"id\": 4}, {\"na...   \n",
       "2332    15.895340  [{\"name\": \"Screen Gems\", \"id\": 3287}, {\"name\":...   \n",
       "2883     9.525037  [{\"name\": \"Walt Disney Pictures\", \"id\": 2}, {\"...   \n",
       "\n",
       "                                   production_countries  ...  \\\n",
       "1721  [{\"iso_3166_1\": \"FR\", \"name\": \"France\"}, {\"iso...  ...   \n",
       "2334  [{\"iso_3166_1\": \"US\", \"name\": \"United States o...  ...   \n",
       "443   [{\"iso_3166_1\": \"US\", \"name\": \"United States o...  ...   \n",
       "2332  [{\"iso_3166_1\": \"US\", \"name\": \"United States o...  ...   \n",
       "2883  [{\"iso_3166_1\": \"US\", \"name\": \"United States o...  ...   \n",
       "\n",
       "                                       spoken_languages    status  \\\n",
       "1721     [{\"iso_639_1\": \"fr\", \"name\": \"Fran\\u00e7ais\"}]  Released   \n",
       "2334           [{\"iso_639_1\": \"en\", \"name\": \"English\"}]  Released   \n",
       "443            [{\"iso_639_1\": \"en\", \"name\": \"English\"}]  Released   \n",
       "2332  [{\"iso_639_1\": \"en\", \"name\": \"English\"}, {\"iso...  Released   \n",
       "2883           [{\"iso_639_1\": \"en\", \"name\": \"English\"}]  Released   \n",
       "\n",
       "                                                tagline            title  \\\n",
       "1721  Explore the depths of our planet's oceans.  Ex...           Oceans   \n",
       "2334            The most lethal sniper in U.S. history.  American Sniper   \n",
       "443                               This is a true story.    The Big Short   \n",
       "2332                               The blood war is on.      Ultraviolet   \n",
       "2883                          The Impossible True Story      Secretariat   \n",
       "\n",
       "     vote_count  Rate movie_id  \\\n",
       "1721        111  High    36970   \n",
       "2334       4469  High   190859   \n",
       "443        2607  High   318846   \n",
       "2332        458   Low     9920   \n",
       "2883        103  High    39486   \n",
       "\n",
       "                                                   cast  \\\n",
       "1721  [{\"cast_id\": 3, \"character\": \"Narrator (voice:...   \n",
       "2334  [{\"cast_id\": 44, \"character\": \"Chris Kyle\", \"c...   \n",
       "443   [{\"cast_id\": 2, \"character\": \"Michael Burry\", ...   \n",
       "2332  [{\"cast_id\": 22, \"character\": \"Violet Song Jat...   \n",
       "2883  [{\"cast_id\": 1, \"character\": \"Penny Chenery\", ...   \n",
       "\n",
       "                                                   crew  tld  \n",
       "1721  [{\"credit_id\": \"54186c670e0a2637f900366f\", \"de...  com  \n",
       "2334  [{\"credit_id\": \"52fe4c6f9251416c910f4d57\", \"de...  com  \n",
       "443   [{\"credit_id\": \"568349e09251414f6300f7b7\", \"de...  com  \n",
       "2332  [{\"credit_id\": \"58a4c23ac3a3686cc2008ab8\", \"de...  com  \n",
       "2883  [{\"credit_id\": \"52fe471e9251416c9106a99f\", \"de...  com  \n",
       "\n",
       "[5 rows x 23 columns]"
      ]
     },
     "execution_count": 95,
     "metadata": {},
     "output_type": "execute_result"
    }
   ],
   "source": [
    "test_data.head()"
   ]
  },
  {
   "cell_type": "code",
   "execution_count": 96,
   "metadata": {
    "id": "rJuaT_-gtiyy"
   },
   "outputs": [],
   "source": [
    "test_data = proprocessing(test_data)\n",
    "test_data = processing2(test_data)"
   ]
  },
  {
   "cell_type": "code",
   "execution_count": 97,
   "metadata": {
    "colab": {
     "base_uri": "https://localhost:8080/",
     "height": 236
    },
    "id": "sPTblZ1VwWcg",
    "outputId": "308748e1-24d2-464c-da1f-fe9ff4fb1159"
   },
   "outputs": [
    {
     "data": {
      "text/html": [
       "<div>\n",
       "<style scoped>\n",
       "    .dataframe tbody tr th:only-of-type {\n",
       "        vertical-align: middle;\n",
       "    }\n",
       "\n",
       "    .dataframe tbody tr th {\n",
       "        vertical-align: top;\n",
       "    }\n",
       "\n",
       "    .dataframe thead th {\n",
       "        text-align: right;\n",
       "    }\n",
       "</style>\n",
       "<table border=\"1\" class=\"dataframe\">\n",
       "  <thead>\n",
       "    <tr style=\"text-align: right;\">\n",
       "      <th></th>\n",
       "      <th>budget</th>\n",
       "      <th>original_language</th>\n",
       "      <th>viewercount</th>\n",
       "      <th>revenue</th>\n",
       "      <th>runtime</th>\n",
       "      <th>status</th>\n",
       "      <th>vote_count</th>\n",
       "      <th>Rate</th>\n",
       "      <th>release_year</th>\n",
       "      <th>Western</th>\n",
       "      <th>...</th>\n",
       "      <th>movie</th>\n",
       "      <th>dk</th>\n",
       "      <th>ch http:</th>\n",
       "      <th>ru</th>\n",
       "      <th>hk</th>\n",
       "      <th>za</th>\n",
       "      <th>cn</th>\n",
       "      <th>ca</th>\n",
       "      <th>ie</th>\n",
       "      <th>tags</th>\n",
       "    </tr>\n",
       "  </thead>\n",
       "  <tbody>\n",
       "    <tr>\n",
       "      <th>0</th>\n",
       "      <td>0</td>\n",
       "      <td>1</td>\n",
       "      <td>10.706613</td>\n",
       "      <td>19406406</td>\n",
       "      <td>84.0</td>\n",
       "      <td>1</td>\n",
       "      <td>111</td>\n",
       "      <td>High</td>\n",
       "      <td>2009</td>\n",
       "      <td>0</td>\n",
       "      <td>...</td>\n",
       "      <td>0</td>\n",
       "      <td>0</td>\n",
       "      <td>0</td>\n",
       "      <td>0</td>\n",
       "      <td>0</td>\n",
       "      <td>0</td>\n",
       "      <td>0</td>\n",
       "      <td>0</td>\n",
       "      <td>0</td>\n",
       "      <td>0.02461</td>\n",
       "    </tr>\n",
       "    <tr>\n",
       "      <th>1</th>\n",
       "      <td>28000000</td>\n",
       "      <td>1</td>\n",
       "      <td>57.518472</td>\n",
       "      <td>133346506</td>\n",
       "      <td>130.0</td>\n",
       "      <td>1</td>\n",
       "      <td>2607</td>\n",
       "      <td>High</td>\n",
       "      <td>2015</td>\n",
       "      <td>0</td>\n",
       "      <td>...</td>\n",
       "      <td>0</td>\n",
       "      <td>0</td>\n",
       "      <td>0</td>\n",
       "      <td>0</td>\n",
       "      <td>0</td>\n",
       "      <td>0</td>\n",
       "      <td>0</td>\n",
       "      <td>0</td>\n",
       "      <td>0</td>\n",
       "      <td>0.022512</td>\n",
       "    </tr>\n",
       "    <tr>\n",
       "      <th>2</th>\n",
       "      <td>30000000</td>\n",
       "      <td>1</td>\n",
       "      <td>15.89534</td>\n",
       "      <td>31070211</td>\n",
       "      <td>87.0</td>\n",
       "      <td>1</td>\n",
       "      <td>458</td>\n",
       "      <td>Low</td>\n",
       "      <td>2006</td>\n",
       "      <td>0</td>\n",
       "      <td>...</td>\n",
       "      <td>0</td>\n",
       "      <td>0</td>\n",
       "      <td>0</td>\n",
       "      <td>0</td>\n",
       "      <td>0</td>\n",
       "      <td>0</td>\n",
       "      <td>0</td>\n",
       "      <td>0</td>\n",
       "      <td>0</td>\n",
       "      <td>0.029319</td>\n",
       "    </tr>\n",
       "    <tr>\n",
       "      <th>3</th>\n",
       "      <td>35000000</td>\n",
       "      <td>1</td>\n",
       "      <td>9.525037</td>\n",
       "      <td>60251371</td>\n",
       "      <td>123.0</td>\n",
       "      <td>1</td>\n",
       "      <td>103</td>\n",
       "      <td>High</td>\n",
       "      <td>2010</td>\n",
       "      <td>0</td>\n",
       "      <td>...</td>\n",
       "      <td>0</td>\n",
       "      <td>0</td>\n",
       "      <td>0</td>\n",
       "      <td>0</td>\n",
       "      <td>0</td>\n",
       "      <td>0</td>\n",
       "      <td>0</td>\n",
       "      <td>0</td>\n",
       "      <td>0</td>\n",
       "      <td>0.024217</td>\n",
       "    </tr>\n",
       "    <tr>\n",
       "      <th>4</th>\n",
       "      <td>50000000</td>\n",
       "      <td>1</td>\n",
       "      <td>9.622345</td>\n",
       "      <td>0</td>\n",
       "      <td>137.0</td>\n",
       "      <td>1</td>\n",
       "      <td>88</td>\n",
       "      <td>Intermediate</td>\n",
       "      <td>1999</td>\n",
       "      <td>0</td>\n",
       "      <td>...</td>\n",
       "      <td>0</td>\n",
       "      <td>0</td>\n",
       "      <td>0</td>\n",
       "      <td>0</td>\n",
       "      <td>0</td>\n",
       "      <td>0</td>\n",
       "      <td>0</td>\n",
       "      <td>0</td>\n",
       "      <td>0</td>\n",
       "      <td>0.022595</td>\n",
       "    </tr>\n",
       "  </tbody>\n",
       "</table>\n",
       "<p>5 rows × 156 columns</p>\n",
       "</div>"
      ],
      "text/plain": [
       "     budget  original_language viewercount    revenue runtime  status  \\\n",
       "0         0                  1   10.706613   19406406    84.0       1   \n",
       "1  28000000                  1   57.518472  133346506   130.0       1   \n",
       "2  30000000                  1    15.89534   31070211    87.0       1   \n",
       "3  35000000                  1    9.525037   60251371   123.0       1   \n",
       "4  50000000                  1    9.622345          0   137.0       1   \n",
       "\n",
       "  vote_count          Rate release_year Western  ... movie dk ch http: ru hk  \\\n",
       "0        111          High         2009       0  ...     0  0        0  0  0   \n",
       "1       2607          High         2015       0  ...     0  0        0  0  0   \n",
       "2        458           Low         2006       0  ...     0  0        0  0  0   \n",
       "3        103          High         2010       0  ...     0  0        0  0  0   \n",
       "4         88  Intermediate         1999       0  ...     0  0        0  0  0   \n",
       "\n",
       "  za cn ca ie      tags  \n",
       "0  0  0  0  0   0.02461  \n",
       "1  0  0  0  0  0.022512  \n",
       "2  0  0  0  0  0.029319  \n",
       "3  0  0  0  0  0.024217  \n",
       "4  0  0  0  0  0.022595  \n",
       "\n",
       "[5 rows x 156 columns]"
      ]
     },
     "execution_count": 97,
     "metadata": {},
     "output_type": "execute_result"
    }
   ],
   "source": [
    "test_data.head()"
   ]
  },
  {
   "cell_type": "code",
   "execution_count": 98,
   "metadata": {
    "id": "CqJTy5fswhs_"
   },
   "outputs": [],
   "source": [
    "#test_data['Rate'] = test_data['Rate'].map(encoding)"
   ]
  },
  {
   "cell_type": "code",
   "execution_count": 99,
   "metadata": {
    "id": "zkZuirHDIQ0B"
   },
   "outputs": [],
   "source": [
    "train_columns = train_data.columns.tolist()\n",
    "\n",
    "for column in train_columns:\n",
    "    if column not in test_data.columns:\n",
    "        test_data[column] = 0"
   ]
  },
  {
   "cell_type": "code",
   "execution_count": 100,
   "metadata": {
    "id": "7NHhbSsDIZRR"
   },
   "outputs": [],
   "source": [
    "x_test = test_data[names]\n",
    "y_test = test_data['Rate']"
   ]
  },
  {
   "cell_type": "code",
   "execution_count": 101,
   "metadata": {
    "colab": {
     "base_uri": "https://localhost:8080/",
     "height": 206
    },
    "id": "5QpIdBipzR-1",
    "outputId": "0dbfff5f-186b-4871-c801-60ce94c4bbbf"
   },
   "outputs": [
    {
     "data": {
      "text/html": [
       "<div>\n",
       "<style scoped>\n",
       "    .dataframe tbody tr th:only-of-type {\n",
       "        vertical-align: middle;\n",
       "    }\n",
       "\n",
       "    .dataframe tbody tr th {\n",
       "        vertical-align: top;\n",
       "    }\n",
       "\n",
       "    .dataframe thead th {\n",
       "        text-align: right;\n",
       "    }\n",
       "</style>\n",
       "<table border=\"1\" class=\"dataframe\">\n",
       "  <thead>\n",
       "    <tr style=\"text-align: right;\">\n",
       "      <th></th>\n",
       "      <th>budget</th>\n",
       "      <th>original_language</th>\n",
       "      <th>viewercount</th>\n",
       "      <th>revenue</th>\n",
       "      <th>runtime</th>\n",
       "      <th>vote_count</th>\n",
       "      <th>release_year</th>\n",
       "      <th>Drama</th>\n",
       "      <th>Thriller</th>\n",
       "      <th>Comedy</th>\n",
       "      <th>Science Fiction</th>\n",
       "      <th>War</th>\n",
       "      <th>Action</th>\n",
       "      <th>History</th>\n",
       "      <th>Horror</th>\n",
       "      <th>United Kingdom</th>\n",
       "      <th>Italy</th>\n",
       "      <th>United States of America</th>\n",
       "      <th>English</th>\n",
       "      <th>tags</th>\n",
       "    </tr>\n",
       "  </thead>\n",
       "  <tbody>\n",
       "    <tr>\n",
       "      <th>0</th>\n",
       "      <td>0</td>\n",
       "      <td>1</td>\n",
       "      <td>10.706613</td>\n",
       "      <td>19406406</td>\n",
       "      <td>84.0</td>\n",
       "      <td>111</td>\n",
       "      <td>2009</td>\n",
       "      <td>0</td>\n",
       "      <td>0</td>\n",
       "      <td>0</td>\n",
       "      <td>0</td>\n",
       "      <td>0</td>\n",
       "      <td>0</td>\n",
       "      <td>0</td>\n",
       "      <td>0</td>\n",
       "      <td>0</td>\n",
       "      <td>0</td>\n",
       "      <td>0</td>\n",
       "      <td>0</td>\n",
       "      <td>0.02461</td>\n",
       "    </tr>\n",
       "    <tr>\n",
       "      <th>1</th>\n",
       "      <td>28000000</td>\n",
       "      <td>1</td>\n",
       "      <td>57.518472</td>\n",
       "      <td>133346506</td>\n",
       "      <td>130.0</td>\n",
       "      <td>2607</td>\n",
       "      <td>2015</td>\n",
       "      <td>1</td>\n",
       "      <td>0</td>\n",
       "      <td>1</td>\n",
       "      <td>0</td>\n",
       "      <td>0</td>\n",
       "      <td>0</td>\n",
       "      <td>0</td>\n",
       "      <td>0</td>\n",
       "      <td>0</td>\n",
       "      <td>0</td>\n",
       "      <td>1</td>\n",
       "      <td>1</td>\n",
       "      <td>0.022512</td>\n",
       "    </tr>\n",
       "    <tr>\n",
       "      <th>2</th>\n",
       "      <td>30000000</td>\n",
       "      <td>1</td>\n",
       "      <td>15.89534</td>\n",
       "      <td>31070211</td>\n",
       "      <td>87.0</td>\n",
       "      <td>458</td>\n",
       "      <td>2006</td>\n",
       "      <td>0</td>\n",
       "      <td>1</td>\n",
       "      <td>0</td>\n",
       "      <td>1</td>\n",
       "      <td>0</td>\n",
       "      <td>1</td>\n",
       "      <td>0</td>\n",
       "      <td>0</td>\n",
       "      <td>0</td>\n",
       "      <td>0</td>\n",
       "      <td>1</td>\n",
       "      <td>1</td>\n",
       "      <td>0.029319</td>\n",
       "    </tr>\n",
       "    <tr>\n",
       "      <th>3</th>\n",
       "      <td>35000000</td>\n",
       "      <td>1</td>\n",
       "      <td>9.525037</td>\n",
       "      <td>60251371</td>\n",
       "      <td>123.0</td>\n",
       "      <td>103</td>\n",
       "      <td>2010</td>\n",
       "      <td>1</td>\n",
       "      <td>0</td>\n",
       "      <td>0</td>\n",
       "      <td>0</td>\n",
       "      <td>0</td>\n",
       "      <td>0</td>\n",
       "      <td>0</td>\n",
       "      <td>0</td>\n",
       "      <td>0</td>\n",
       "      <td>0</td>\n",
       "      <td>1</td>\n",
       "      <td>1</td>\n",
       "      <td>0.024217</td>\n",
       "    </tr>\n",
       "    <tr>\n",
       "      <th>4</th>\n",
       "      <td>50000000</td>\n",
       "      <td>1</td>\n",
       "      <td>9.622345</td>\n",
       "      <td>0</td>\n",
       "      <td>137.0</td>\n",
       "      <td>88</td>\n",
       "      <td>1999</td>\n",
       "      <td>1</td>\n",
       "      <td>0</td>\n",
       "      <td>0</td>\n",
       "      <td>0</td>\n",
       "      <td>0</td>\n",
       "      <td>0</td>\n",
       "      <td>0</td>\n",
       "      <td>0</td>\n",
       "      <td>0</td>\n",
       "      <td>0</td>\n",
       "      <td>1</td>\n",
       "      <td>1</td>\n",
       "      <td>0.022595</td>\n",
       "    </tr>\n",
       "  </tbody>\n",
       "</table>\n",
       "</div>"
      ],
      "text/plain": [
       "     budget  original_language viewercount    revenue runtime vote_count  \\\n",
       "0         0                  1   10.706613   19406406    84.0        111   \n",
       "1  28000000                  1   57.518472  133346506   130.0       2607   \n",
       "2  30000000                  1    15.89534   31070211    87.0        458   \n",
       "3  35000000                  1    9.525037   60251371   123.0        103   \n",
       "4  50000000                  1    9.622345          0   137.0         88   \n",
       "\n",
       "  release_year Drama Thriller Comedy Science Fiction War Action History  \\\n",
       "0         2009     0        0      0               0   0      0       0   \n",
       "1         2015     1        0      1               0   0      0       0   \n",
       "2         2006     0        1      0               1   0      1       0   \n",
       "3         2010     1        0      0               0   0      0       0   \n",
       "4         1999     1        0      0               0   0      0       0   \n",
       "\n",
       "  Horror United Kingdom Italy United States of America English      tags  \n",
       "0      0              0     0                        0       0   0.02461  \n",
       "1      0              0     0                        1       1  0.022512  \n",
       "2      0              0     0                        1       1  0.029319  \n",
       "3      0              0     0                        1       1  0.024217  \n",
       "4      0              0     0                        1       1  0.022595  "
      ]
     },
     "execution_count": 101,
     "metadata": {},
     "output_type": "execute_result"
    }
   ],
   "source": [
    "x_test.head()"
   ]
  },
  {
   "cell_type": "code",
   "execution_count": 102,
   "metadata": {
    "colab": {
     "base_uri": "https://localhost:8080/"
    },
    "id": "v9sa1dGMpYBR",
    "outputId": "7d81c327-5701-45ca-93e6-1c8c3be55c83"
   },
   "outputs": [
    {
     "data": {
      "text/plain": [
       "array([-0.96439496,  0.23626872, -1.07240014, -0.75207204,  0.49622536,\n",
       "       -0.86373498,  0.40615224,  1.03243081, -0.62197435, -0.80522337,\n",
       "       -0.33468218, -0.18153976, -0.5734907 , -0.21039163, -0.3363637 ,\n",
       "        2.42440569, -0.12732325, -2.39375466,  0.20682279,  3.74628083])"
      ]
     },
     "execution_count": 102,
     "metadata": {},
     "output_type": "execute_result"
    }
   ],
   "source": [
    "# Data Scaling - Standardization\n",
    "from sklearn.preprocessing import StandardScaler\n",
    "scaler = StandardScaler()\n",
    "scaler.fit(x_train)\n",
    "x_train_scaled= scaler.transform(x_train)\n",
    "x_test_scaled= scaler.transform(x_test)\n",
    "\n",
    "x_train_scaled[0]"
   ]
  },
  {
   "cell_type": "code",
   "execution_count": 103,
   "metadata": {
    "id": "jAgs4KMHJLMT"
   },
   "outputs": [],
   "source": [
    "def evaluate_model(obj,x_train,y_train,x_test,y_test):\n",
    "    start_train = time.time()\n",
    "    obj.fit(x_train,y_train)\n",
    "    train_time = time.time() - start_train\n",
    "\n",
    "    start_test = time.time()\n",
    "    y_pred = obj.predict(x_test)\n",
    "    test_time = time.time() - start_test\n",
    "\n",
    "    acc = accuracy_score(y_test, y_pred)\n",
    "    print(obj.__class__.__name__)\n",
    "    print('Accuracy of test:',acc)\n",
    "    print('--------------------------------------------')\n",
    "    return acc, train_time, test_time"
   ]
  },
  {
   "cell_type": "code",
   "execution_count": 104,
   "metadata": {
    "id": "AXqabZssMGHu"
   },
   "outputs": [],
   "source": [
    "import matplotlib.pyplot as plt\n",
    "def plot_bar_graphs(lr, svc, k, dt):\n",
    "  labels = ['LogisticRegression', 'SVC', 'KNeighbors', 'DecisionTree']\n",
    "  values = [lr, svc, k, dt]\n",
    "\n",
    "  plt.bar(labels, values)\n",
    "  plt.tight_layout()\n",
    "  plt.ylim([0, 1.0]) \n",
    "  plt.grid(axis='y') \n",
    "  plt.show()"
   ]
  },
  {
   "cell_type": "code",
   "execution_count": 105,
   "metadata": {
    "colab": {
     "base_uri": "https://localhost:8080/"
    },
    "id": "666vTkf9pYEr",
    "outputId": "6cef9a86-d643-487e-9d81-037d97267318"
   },
   "outputs": [
    {
     "name": "stdout",
     "output_type": "stream",
     "text": [
      "LogisticRegression\n",
      "Accuracy of test: 0.6985815602836879\n",
      "--------------------------------------------\n"
     ]
    }
   ],
   "source": [
    "# LogisticRegression\n",
    "LR = LogisticRegression(C=0.03,solver = 'saga')\n",
    "acc_lr, train_time_lr, test_time_lr = evaluate_model(LR,x_train_scaled,\n",
    "                                        y_train,x_test_scaled,y_test)"
   ]
  },
  {
   "cell_type": "code",
   "execution_count": 106,
   "metadata": {
    "colab": {
     "base_uri": "https://localhost:8080/"
    },
    "id": "oo0tpd32yXfb",
    "outputId": "260d1a9b-99b7-4743-ca15-ca95459dfb52"
   },
   "outputs": [
    {
     "name": "stdout",
     "output_type": "stream",
     "text": [
      "SVC\n",
      "Accuracy of test: 0.7074468085106383\n",
      "--------------------------------------------\n"
     ]
    }
   ],
   "source": [
    "# SVM \n",
    "SVM_model = SVC(kernel='poly',degree = 1)\n",
    "acc_svm, train_time_svm, test_time_svm = evaluate_model(SVM_model,x_train_scaled,\n",
    "                                        y_train,x_test_scaled,y_test)"
   ]
  },
  {
   "cell_type": "code",
   "execution_count": 107,
   "metadata": {
    "colab": {
     "base_uri": "https://localhost:8080/"
    },
    "id": "wcXcfz8w-dmc",
    "outputId": "f60a3a15-c4b3-4a0b-9f32-2cd99638ce2f"
   },
   "outputs": [
    {
     "name": "stdout",
     "output_type": "stream",
     "text": [
      "DecisionTreeClassifier\n",
      "Accuracy of test: 0.6702127659574468\n",
      "--------------------------------------------\n"
     ]
    }
   ],
   "source": [
    "Dtree = DecisionTreeClassifier(random_state=1, max_depth=7)\n",
    "acc_dt, train_time_dt, test_time_dt = evaluate_model(Dtree,x_train_scaled,\n",
    "                                        y_train,x_test_scaled,y_test)"
   ]
  },
  {
   "cell_type": "code",
   "execution_count": 108,
   "metadata": {
    "colab": {
     "base_uri": "https://localhost:8080/"
    },
    "id": "_EftNFdW_byo",
    "outputId": "2e0f038d-30de-4a4c-ddf6-7c0fa61078ca"
   },
   "outputs": [
    {
     "name": "stdout",
     "output_type": "stream",
     "text": [
      "KNeighborsClassifier\n",
      "Accuracy of test: 0.675531914893617\n",
      "--------------------------------------------\n"
     ]
    }
   ],
   "source": [
    "knn = KNeighborsClassifier(n_neighbors= 19, weights = 'uniform')\n",
    "acc_knn, train_time_knn, test_time_knn = evaluate_model(knn,x_train_scaled,\n",
    "                                        y_train,x_test_scaled,y_test)"
   ]
  },
  {
   "cell_type": "code",
   "execution_count": 109,
   "metadata": {
    "colab": {
     "base_uri": "https://localhost:8080/",
     "height": 492
    },
    "id": "E-vC6P2G83R8",
    "outputId": "266e4305-d138-4d29-b7bc-487689ae1ff4"
   },
   "outputs": [
    {
     "data": {
      "image/png": "[encoded data removed]",
      "text/plain": [
       "<Figure size 640x480 with 1 Axes>"
      ]
     },
     "metadata": {},
     "output_type": "display_data"
    }
   ],
   "source": [
    "# Accuracy Comparison of 4 Models\n",
    "plot_bar_graphs(acc_lr, acc_svm, acc_knn, acc_dt)"
   ]
  },
  {
   "cell_type": "code",
   "execution_count": 110,
   "metadata": {
    "colab": {
     "base_uri": "https://localhost:8080/",
     "height": 492
    },
    "id": "LAqxTTgC--vw",
    "outputId": "08421801-1dc9-4def-93f1-68f708fa40eb"
   },
   "outputs": [
    {
     "data": {
      "image/png": "[encoded data removed]",
      "text/plain": [
       "<Figure size 640x480 with 1 Axes>"
      ]
     },
     "metadata": {},
     "output_type": "display_data"
    }
   ],
   "source": [
    "# Train Time Comparison of 4 Models\n",
    "plot_bar_graphs(train_time_lr, train_time_svm, train_time_knn, train_time_dt)"
   ]
  },
  {
   "cell_type": "code",
   "execution_count": 111,
   "metadata": {
    "colab": {
     "base_uri": "https://localhost:8080/",
     "height": 492
    },
    "id": "kV-Z54pf_u_c",
    "outputId": "1d25bfc2-acb2-487b-fc9b-8b8caaad1554"
   },
   "outputs": [
    {
     "data": {
      "image/png": "[encoded data removed]",
      "text/plain": [
       "<Figure size 640x480 with 1 Axes>"
      ]
     },
     "metadata": {},
     "output_type": "display_data"
    }
   ],
   "source": [
    "# Test Time Comparison of 4 Models\n",
    "plot_bar_graphs(test_time_lr, test_time_svm, test_time_knn, test_time_dt)"
   ]
  },
  {
   "cell_type": "code",
   "execution_count": 112,
   "metadata": {
    "id": "bu26oDzIpLBw"
   },
   "outputs": [],
   "source": [
    "import pickle\n",
    "def save_trained_model(file_name, clf):\n",
    "  with open(file_name, 'wb') as f:\n",
    "      pickle.dump(clf, f)"
   ]
  },
  {
   "cell_type": "code",
   "execution_count": 113,
   "metadata": {
    "id": "1mKCQbViPhzW"
   },
   "outputs": [],
   "source": [
    "save_trained_model('LR', LR)\n",
    "save_trained_model('SVM', SVM_model)\n",
    "save_trained_model('DecisionTree', Dtree)\n",
    "save_trained_model('knn', knn)"
   ]
  },
  {
   "cell_type": "code",
   "execution_count": 114,
   "metadata": {
    "id": "YLqa-GkM08Zh"
   },
   "outputs": [],
   "source": [
    "###loading the models\n",
    "def loading_models(file_name, new_X):\n",
    "   with open(file_name, 'rb') as f:\n",
    "       clf = pickle.load(f)\n",
    "       predictions = clf.predict(new_X)\n",
    "       return predictions"
   ]
  },
  {
   "cell_type": "code",
   "execution_count": 115,
   "metadata": {
    "id": "oJarQVnA0Prw"
   },
   "outputs": [],
   "source": [
    "# test_script \n",
    "test_cred = pd.read_csv('tmdb_5000_credits.csv')\n",
    "test_script = pd.read_csv('tmdb_5000_movies.csv')\n",
    "test_script = test_script.merge(test_cred, on='title')"
   ]
  },
  {
   "cell_type": "code",
   "execution_count": 116,
   "metadata": {},
   "outputs": [],
   "source": [
    "test_script['tld'] = extract_tld(test_script['homepage'])"
   ]
  },
  {
   "cell_type": "code",
   "execution_count": 117,
   "metadata": {},
   "outputs": [],
   "source": [
    "test_script = test_script.drop(columns = ['homepage'], axis = 1)"
   ]
  },
  {
   "cell_type": "code",
   "execution_count": 118,
   "metadata": {
    "id": "wydI8SbWLU7Q"
   },
   "outputs": [],
   "source": [
    "def replace_nulls(data):\n",
    "    for col in data.columns:\n",
    "        mode = data[col].mode()\n",
    "        if len(mode) > 0 and not pd.isnull(mode[0]):\n",
    "            data[col].fillna(mode[0], inplace=True)\n",
    "        else:\n",
    "            second_mode = data[col].value_counts().index[1] if len(data[col].value_counts()) > 1 else None\n",
    "            if second_mode is not None:\n",
    "                data[col].fillna(second_mode, inplace=True)\n",
    "            else:\n",
    "                data[col].fillna(0, inplace=True)\n",
    "    return data"
   ]
  },
  {
   "cell_type": "code",
   "execution_count": 119,
   "metadata": {
    "id": "zdq9FoV4z54e"
   },
   "outputs": [
    {
     "ename": "KeyError",
     "evalue": "\"['Rate'] not found in axis\"",
     "output_type": "error",
     "traceback": [
      "\u001b[1;31m---------------------------------------------------------------------------\u001b[0m",
      "\u001b[1;31mKeyError\u001b[0m                                  Traceback (most recent call last)",
      "\u001b[1;32m~\\AppData\\Local\\Temp\\ipykernel_14308\\945014958.py\u001b[0m in \u001b[0;36m<module>\u001b[1;34m\u001b[0m\n\u001b[0;32m      1\u001b[0m \u001b[1;31m### transforming test data\u001b[0m\u001b[1;33m\u001b[0m\u001b[1;33m\u001b[0m\u001b[0m\n\u001b[0;32m      2\u001b[0m \u001b[0mtest_script_transformed\u001b[0m \u001b[1;33m=\u001b[0m \u001b[0mreplace_nulls\u001b[0m\u001b[1;33m(\u001b[0m\u001b[0mtest_script\u001b[0m\u001b[1;33m)\u001b[0m\u001b[1;33m\u001b[0m\u001b[1;33m\u001b[0m\u001b[0m\n\u001b[1;32m----> 3\u001b[1;33m \u001b[0mtest_script_transformed\u001b[0m \u001b[1;33m=\u001b[0m \u001b[0mproprocessing\u001b[0m\u001b[1;33m(\u001b[0m\u001b[0mtest_script_transformed\u001b[0m\u001b[1;33m)\u001b[0m\u001b[1;33m\u001b[0m\u001b[1;33m\u001b[0m\u001b[0m\n\u001b[0m\u001b[0;32m      4\u001b[0m \u001b[0mtest_script_transformed\u001b[0m \u001b[1;33m=\u001b[0m \u001b[0mprocessing2\u001b[0m\u001b[1;33m(\u001b[0m\u001b[0mtest_script_transformed\u001b[0m\u001b[1;33m)\u001b[0m\u001b[1;33m\u001b[0m\u001b[1;33m\u001b[0m\u001b[0m\n",
      "\u001b[1;32m~\\AppData\\Local\\Temp\\ipykernel_14308\\1036055086.py\u001b[0m in \u001b[0;36mproprocessing\u001b[1;34m(dataset)\u001b[0m\n\u001b[0;32m      3\u001b[0m \u001b[1;33m\u001b[0m\u001b[0m\n\u001b[0;32m      4\u001b[0m   \u001b[0mdataset\u001b[0m \u001b[1;33m=\u001b[0m \u001b[0mdataset\u001b[0m\u001b[1;33m.\u001b[0m\u001b[0mdrop_duplicates\u001b[0m\u001b[1;33m(\u001b[0m\u001b[1;33m)\u001b[0m\u001b[1;33m\u001b[0m\u001b[1;33m\u001b[0m\u001b[0m\n\u001b[1;32m----> 5\u001b[1;33m   \u001b[0mdataset\u001b[0m \u001b[1;33m=\u001b[0m \u001b[0mdrop_outliers\u001b[0m\u001b[1;33m(\u001b[0m\u001b[0mdataset\u001b[0m\u001b[1;33m,\u001b[0m \u001b[1;36m3\u001b[0m\u001b[1;33m)\u001b[0m\u001b[1;33m\u001b[0m\u001b[1;33m\u001b[0m\u001b[0m\n\u001b[0m\u001b[0;32m      6\u001b[0m   \u001b[0mextract_name\u001b[0m\u001b[1;33m(\u001b[0m\u001b[1;34m'spoken_languages'\u001b[0m\u001b[1;33m,\u001b[0m \u001b[0mdataset\u001b[0m\u001b[1;33m,\u001b[0m \u001b[1;34m'Lang'\u001b[0m\u001b[1;33m)\u001b[0m\u001b[1;33m\u001b[0m\u001b[1;33m\u001b[0m\u001b[0m\n\u001b[0;32m      7\u001b[0m   \u001b[0mextract_name\u001b[0m\u001b[1;33m(\u001b[0m\u001b[1;34m'genres'\u001b[0m\u001b[1;33m,\u001b[0m \u001b[0mdataset\u001b[0m\u001b[1;33m,\u001b[0m \u001b[1;34m'genre_names'\u001b[0m\u001b[1;33m)\u001b[0m\u001b[1;33m\u001b[0m\u001b[1;33m\u001b[0m\u001b[0m\n",
      "\u001b[1;32m~\\AppData\\Local\\Temp\\ipykernel_14308\\925837748.py\u001b[0m in \u001b[0;36mdrop_outliers\u001b[1;34m(data, thresh)\u001b[0m\n\u001b[0;32m      1\u001b[0m \u001b[1;32mdef\u001b[0m \u001b[0mdrop_outliers\u001b[0m\u001b[1;33m(\u001b[0m\u001b[0mdata\u001b[0m\u001b[1;33m,\u001b[0m \u001b[0mthresh\u001b[0m\u001b[1;33m)\u001b[0m\u001b[1;33m:\u001b[0m\u001b[1;33m\u001b[0m\u001b[1;33m\u001b[0m\u001b[0m\n\u001b[1;32m----> 2\u001b[1;33m   numeric_features = data.drop(columns = ['id', 'original_language','original_title', 'overview' ,\n\u001b[0m\u001b[0;32m      3\u001b[0m                                      \u001b[1;34m'status'\u001b[0m\u001b[1;33m,\u001b[0m \u001b[1;34m'tagline'\u001b[0m \u001b[1;33m,\u001b[0m\u001b[1;34m'title'\u001b[0m\u001b[1;33m,\u001b[0m \u001b[1;34m'tld'\u001b[0m \u001b[1;33m,\u001b[0m \u001b[1;34m'spoken_languages'\u001b[0m\u001b[1;33m,\u001b[0m \u001b[1;34m'genres'\u001b[0m\u001b[1;33m,\u001b[0m\u001b[1;33m\u001b[0m\u001b[1;33m\u001b[0m\u001b[0m\n\u001b[0;32m      4\u001b[0m                                       \u001b[1;34m'production_companies'\u001b[0m\u001b[1;33m,\u001b[0m \u001b[1;34m'production_countries'\u001b[0m\u001b[1;33m,\u001b[0m \u001b[1;34m'keywords'\u001b[0m\u001b[1;33m,\u001b[0m \u001b[1;34m'release_date'\u001b[0m\u001b[1;33m,\u001b[0m\u001b[1;33m\u001b[0m\u001b[1;33m\u001b[0m\u001b[0m\n\u001b[0;32m      5\u001b[0m                                       'cast', 'crew', 'movie_id', 'Rate'], axis = 1)\n",
      "\u001b[1;32m~\\anaconda3\\lib\\site-packages\\pandas\\util\\_decorators.py\u001b[0m in \u001b[0;36mwrapper\u001b[1;34m(*args, **kwargs)\u001b[0m\n\u001b[0;32m    309\u001b[0m                     \u001b[0mstacklevel\u001b[0m\u001b[1;33m=\u001b[0m\u001b[0mstacklevel\u001b[0m\u001b[1;33m,\u001b[0m\u001b[1;33m\u001b[0m\u001b[1;33m\u001b[0m\u001b[0m\n\u001b[0;32m    310\u001b[0m                 )\n\u001b[1;32m--> 311\u001b[1;33m             \u001b[1;32mreturn\u001b[0m \u001b[0mfunc\u001b[0m\u001b[1;33m(\u001b[0m\u001b[1;33m*\u001b[0m\u001b[0margs\u001b[0m\u001b[1;33m,\u001b[0m \u001b[1;33m**\u001b[0m\u001b[0mkwargs\u001b[0m\u001b[1;33m)\u001b[0m\u001b[1;33m\u001b[0m\u001b[1;33m\u001b[0m\u001b[0m\n\u001b[0m\u001b[0;32m    312\u001b[0m \u001b[1;33m\u001b[0m\u001b[0m\n\u001b[0;32m    313\u001b[0m         \u001b[1;32mreturn\u001b[0m \u001b[0mwrapper\u001b[0m\u001b[1;33m\u001b[0m\u001b[1;33m\u001b[0m\u001b[0m\n",
      "\u001b[1;32m~\\anaconda3\\lib\\site-packages\\pandas\\core\\frame.py\u001b[0m in \u001b[0;36mdrop\u001b[1;34m(self, labels, axis, index, columns, level, inplace, errors)\u001b[0m\n\u001b[0;32m   4955\u001b[0m                 \u001b[0mweight\u001b[0m  \u001b[1;36m1.0\u001b[0m     \u001b[1;36m0.8\u001b[0m\u001b[1;33m\u001b[0m\u001b[1;33m\u001b[0m\u001b[0m\n\u001b[0;32m   4956\u001b[0m         \"\"\"\n\u001b[1;32m-> 4957\u001b[1;33m         return super().drop(\n\u001b[0m\u001b[0;32m   4958\u001b[0m             \u001b[0mlabels\u001b[0m\u001b[1;33m=\u001b[0m\u001b[0mlabels\u001b[0m\u001b[1;33m,\u001b[0m\u001b[1;33m\u001b[0m\u001b[1;33m\u001b[0m\u001b[0m\n\u001b[0;32m   4959\u001b[0m             \u001b[0maxis\u001b[0m\u001b[1;33m=\u001b[0m\u001b[0maxis\u001b[0m\u001b[1;33m,\u001b[0m\u001b[1;33m\u001b[0m\u001b[1;33m\u001b[0m\u001b[0m\n",
      "\u001b[1;32m~\\anaconda3\\lib\\site-packages\\pandas\\core\\generic.py\u001b[0m in \u001b[0;36mdrop\u001b[1;34m(self, labels, axis, index, columns, level, inplace, errors)\u001b[0m\n\u001b[0;32m   4265\u001b[0m         \u001b[1;32mfor\u001b[0m \u001b[0maxis\u001b[0m\u001b[1;33m,\u001b[0m \u001b[0mlabels\u001b[0m \u001b[1;32min\u001b[0m \u001b[0maxes\u001b[0m\u001b[1;33m.\u001b[0m\u001b[0mitems\u001b[0m\u001b[1;33m(\u001b[0m\u001b[1;33m)\u001b[0m\u001b[1;33m:\u001b[0m\u001b[1;33m\u001b[0m\u001b[1;33m\u001b[0m\u001b[0m\n\u001b[0;32m   4266\u001b[0m             \u001b[1;32mif\u001b[0m \u001b[0mlabels\u001b[0m \u001b[1;32mis\u001b[0m \u001b[1;32mnot\u001b[0m \u001b[1;32mNone\u001b[0m\u001b[1;33m:\u001b[0m\u001b[1;33m\u001b[0m\u001b[1;33m\u001b[0m\u001b[0m\n\u001b[1;32m-> 4267\u001b[1;33m                 \u001b[0mobj\u001b[0m \u001b[1;33m=\u001b[0m \u001b[0mobj\u001b[0m\u001b[1;33m.\u001b[0m\u001b[0m_drop_axis\u001b[0m\u001b[1;33m(\u001b[0m\u001b[0mlabels\u001b[0m\u001b[1;33m,\u001b[0m \u001b[0maxis\u001b[0m\u001b[1;33m,\u001b[0m \u001b[0mlevel\u001b[0m\u001b[1;33m=\u001b[0m\u001b[0mlevel\u001b[0m\u001b[1;33m,\u001b[0m \u001b[0merrors\u001b[0m\u001b[1;33m=\u001b[0m\u001b[0merrors\u001b[0m\u001b[1;33m)\u001b[0m\u001b[1;33m\u001b[0m\u001b[1;33m\u001b[0m\u001b[0m\n\u001b[0m\u001b[0;32m   4268\u001b[0m \u001b[1;33m\u001b[0m\u001b[0m\n\u001b[0;32m   4269\u001b[0m         \u001b[1;32mif\u001b[0m \u001b[0minplace\u001b[0m\u001b[1;33m:\u001b[0m\u001b[1;33m\u001b[0m\u001b[1;33m\u001b[0m\u001b[0m\n",
      "\u001b[1;32m~\\anaconda3\\lib\\site-packages\\pandas\\core\\generic.py\u001b[0m in \u001b[0;36m_drop_axis\u001b[1;34m(self, labels, axis, level, errors, consolidate, only_slice)\u001b[0m\n\u001b[0;32m   4309\u001b[0m                 \u001b[0mnew_axis\u001b[0m \u001b[1;33m=\u001b[0m \u001b[0maxis\u001b[0m\u001b[1;33m.\u001b[0m\u001b[0mdrop\u001b[0m\u001b[1;33m(\u001b[0m\u001b[0mlabels\u001b[0m\u001b[1;33m,\u001b[0m \u001b[0mlevel\u001b[0m\u001b[1;33m=\u001b[0m\u001b[0mlevel\u001b[0m\u001b[1;33m,\u001b[0m \u001b[0merrors\u001b[0m\u001b[1;33m=\u001b[0m\u001b[0merrors\u001b[0m\u001b[1;33m)\u001b[0m\u001b[1;33m\u001b[0m\u001b[1;33m\u001b[0m\u001b[0m\n\u001b[0;32m   4310\u001b[0m             \u001b[1;32melse\u001b[0m\u001b[1;33m:\u001b[0m\u001b[1;33m\u001b[0m\u001b[1;33m\u001b[0m\u001b[0m\n\u001b[1;32m-> 4311\u001b[1;33m                 \u001b[0mnew_axis\u001b[0m \u001b[1;33m=\u001b[0m \u001b[0maxis\u001b[0m\u001b[1;33m.\u001b[0m\u001b[0mdrop\u001b[0m\u001b[1;33m(\u001b[0m\u001b[0mlabels\u001b[0m\u001b[1;33m,\u001b[0m \u001b[0merrors\u001b[0m\u001b[1;33m=\u001b[0m\u001b[0merrors\u001b[0m\u001b[1;33m)\u001b[0m\u001b[1;33m\u001b[0m\u001b[1;33m\u001b[0m\u001b[0m\n\u001b[0m\u001b[0;32m   4312\u001b[0m             \u001b[0mindexer\u001b[0m \u001b[1;33m=\u001b[0m \u001b[0maxis\u001b[0m\u001b[1;33m.\u001b[0m\u001b[0mget_indexer\u001b[0m\u001b[1;33m(\u001b[0m\u001b[0mnew_axis\u001b[0m\u001b[1;33m)\u001b[0m\u001b[1;33m\u001b[0m\u001b[1;33m\u001b[0m\u001b[0m\n\u001b[0;32m   4313\u001b[0m \u001b[1;33m\u001b[0m\u001b[0m\n",
      "\u001b[1;32m~\\anaconda3\\lib\\site-packages\\pandas\\core\\indexes\\base.py\u001b[0m in \u001b[0;36mdrop\u001b[1;34m(self, labels, errors)\u001b[0m\n\u001b[0;32m   6659\u001b[0m         \u001b[1;32mif\u001b[0m \u001b[0mmask\u001b[0m\u001b[1;33m.\u001b[0m\u001b[0many\u001b[0m\u001b[1;33m(\u001b[0m\u001b[1;33m)\u001b[0m\u001b[1;33m:\u001b[0m\u001b[1;33m\u001b[0m\u001b[1;33m\u001b[0m\u001b[0m\n\u001b[0;32m   6660\u001b[0m             \u001b[1;32mif\u001b[0m \u001b[0merrors\u001b[0m \u001b[1;33m!=\u001b[0m \u001b[1;34m\"ignore\"\u001b[0m\u001b[1;33m:\u001b[0m\u001b[1;33m\u001b[0m\u001b[1;33m\u001b[0m\u001b[0m\n\u001b[1;32m-> 6661\u001b[1;33m                 \u001b[1;32mraise\u001b[0m \u001b[0mKeyError\u001b[0m\u001b[1;33m(\u001b[0m\u001b[1;34mf\"{list(labels[mask])} not found in axis\"\u001b[0m\u001b[1;33m)\u001b[0m\u001b[1;33m\u001b[0m\u001b[1;33m\u001b[0m\u001b[0m\n\u001b[0m\u001b[0;32m   6662\u001b[0m             \u001b[0mindexer\u001b[0m \u001b[1;33m=\u001b[0m \u001b[0mindexer\u001b[0m\u001b[1;33m[\u001b[0m\u001b[1;33m~\u001b[0m\u001b[0mmask\u001b[0m\u001b[1;33m]\u001b[0m\u001b[1;33m\u001b[0m\u001b[1;33m\u001b[0m\u001b[0m\n\u001b[0;32m   6663\u001b[0m         \u001b[1;32mreturn\u001b[0m \u001b[0mself\u001b[0m\u001b[1;33m.\u001b[0m\u001b[0mdelete\u001b[0m\u001b[1;33m(\u001b[0m\u001b[0mindexer\u001b[0m\u001b[1;33m)\u001b[0m\u001b[1;33m\u001b[0m\u001b[1;33m\u001b[0m\u001b[0m\n",
      "\u001b[1;31mKeyError\u001b[0m: \"['Rate'] not found in axis\""
     ]
    }
   ],
   "source": [
    "### transforming test data\n",
    "test_script_transformed = replace_nulls(test_script)\n",
    "test_script_transformed = proprocessing(test_script_transformed)\n",
    "test_script_transformed = processing2(test_script_transformed)"
   ]
  },
  {
   "cell_type": "code",
   "execution_count": null,
   "metadata": {},
   "outputs": [],
   "source": [
    "for column in train_columns:\n",
    "    if column not in test_script_transformed.columns:\n",
    "        test_script_transformed[column] = 0\n",
    "\n",
    "x_test_script = test_script_transformed[names]\n",
    "y_test_script = test_script_transformed['Rate']"
   ]
  },
  {
   "cell_type": "code",
   "execution_count": null,
   "metadata": {},
   "outputs": [],
   "source": [
    "new_test_script = scaler.transform(x_test_script)"
   ]
  },
  {
   "cell_type": "code",
   "execution_count": null,
   "metadata": {
    "id": "yu6vz-uZ0cuR"
   },
   "outputs": [],
   "source": [
    "LR_predictions = loading_models('LR', new_test_script)\n",
    "LR_predictions"
   ]
  },
  {
   "cell_type": "code",
   "execution_count": null,
   "metadata": {},
   "outputs": [],
   "source": [
    "acc1 = accuracy_score(y_test_script, LR_predictions)\n",
    "    print(\"LOGISIC REGRESSION\")\n",
    "    print('Accuracy of test:',acc1)"
   ]
  },
  {
   "cell_type": "code",
   "execution_count": null,
   "metadata": {
    "id": "hjjH0aHyH13j"
   },
   "outputs": [],
   "source": [
    "svm_predictions = loading_models('SVM', new_test_script)\n",
    "svm_predictions"
   ]
  },
  {
   "cell_type": "code",
   "execution_count": null,
   "metadata": {},
   "outputs": [],
   "source": [
    "acc2 = accuracy_score(y_test_script, svm_predictions)\n",
    "    print(\"SVM\")\n",
    "    print('Accuracy of test:',acc2)"
   ]
  },
  {
   "cell_type": "code",
   "execution_count": null,
   "metadata": {
    "id": "yNcQ3gQG2_81"
   },
   "outputs": [],
   "source": [
    "knn_predictions = loading_models('knn', new_test_script)\n",
    "knn_predictions"
   ]
  },
  {
   "cell_type": "code",
   "execution_count": null,
   "metadata": {},
   "outputs": [],
   "source": [
    "acc3 = accuracy_score(y_test_script, knn_predictions)\n",
    "    print(\"KNN\")\n",
    "    print('Accuracy of test:',acc3)"
   ]
  },
  {
   "cell_type": "code",
   "execution_count": null,
   "metadata": {
    "id": "_-53-Ldi3AJt"
   },
   "outputs": [],
   "source": [
    "dt_predictions = loading_models('DecisionTree', new_test_script)\n",
    "dt_predictions"
   ]
  },
  {
   "cell_type": "code",
   "execution_count": null,
   "metadata": {},
   "outputs": [],
   "source": [
    "acc4 = accuracy_score(y_test_script, dt_predictions)\n",
    "    print(\"KNN\")\n",
    "    print('Accuracy of test:',acc4)"
   ]
  },
  {
   "cell_type": "code",
   "execution_count": null,
   "metadata": {},
   "outputs": [],
   "source": []
  }
 ],
 "metadata": {
  "colab": {
   "provenance": []
  },
  "kernelspec": {
   "display_name": "Python 3 (ipykernel)",
   "language": "python",
   "name": "python3"
  },
  "language_info": {
   "codemirror_mode": {
    "name": "ipython",
    "version": 3
   },
   "file_extension": ".py",
   "mimetype": "text/x-python",
   "name": "python",
   "nbconvert_exporter": "python",
   "pygments_lexer": "ipython3",
   "version": "3.9.13"
  }
 },
 "nbformat": 4,
 "nbformat_minor": 1
}
